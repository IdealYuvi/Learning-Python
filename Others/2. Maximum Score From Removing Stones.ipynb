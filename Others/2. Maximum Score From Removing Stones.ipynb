{
 "cells": [
  {
   "cell_type": "markdown",
   "metadata": {},
   "source": [
    "# You are playing a solitaire game with three piles of stones of sizes a, b, and c respectively. Each turn you choose two different non-empty piles, take one stone from each, and add 1 point to your score. The game stops when there are fewer than two non-empty piles (meaning there are no more available moves).\n",
    "\n",
    "# Given three integers a, b and c, return the maximum score you can get."
   ]
  },
  {
   "cell_type": "code",
   "execution_count": null,
   "metadata": {},
   "outputs": [],
   "source": [
    "\"\"\"\n",
    "Example 1:\n",
    "Input: a = 2, b = 4, c = 6\n",
    "Output: 6\n",
    "Explanation: The starting state is (2, 4, 6). One optimal set of moves is:\n",
    "- Take from 1st and 3rd piles, state is now (1, 4, 5)\n",
    "- Take from 1st and 3rd piles, state is now (0, 4, 4)\n",
    "- Take from 2nd and 3rd piles, state is now (0, 3, 3)\n",
    "- Take from 2nd and 3rd piles, state is now (0, 2, 2)\n",
    "- Take from 2nd and 3rd piles, state is now (0, 1, 1)\n",
    "- Take from 2nd and 3rd piles, state is now (0, 0, 0)\n",
    "There are fewer than two non-empty piles, so the game ends. Total: 6 points.\n",
    "_______________________________________________________________________________________________________________\n",
    "\n",
    "Example 2:\n",
    "Input: a = 4, b = 4, c = 6\n",
    "Output: 7\n",
    "Explanation: The starting state is (4, 4, 6). One optimal set of moves is:\n",
    "- Take from 1st and 2nd piles, state is now (3, 3, 6)\n",
    "- Take from 1st and 3rd piles, state is now (2, 3, 5)\n",
    "- Take from 1st and 3rd piles, state is now (1, 3, 4)\n",
    "- Take from 1st and 3rd piles, state is now (0, 3, 3)\n",
    "- Take from 2nd and 3rd piles, state is now (0, 2, 2)\n",
    "- Take from 2nd and 3rd piles, state is now (0, 1, 1)\n",
    "- Take from 2nd and 3rd piles, state is now (0, 0, 0)\n",
    "There are fewer than two non-empty piles, so the game ends. Total: 7 points.\n",
    "_______________________________________________________________________________________________________________\n",
    "\n",
    "Example 3:\n",
    "Input: a = 1, b = 8, c = 8\n",
    "Output: 8\n",
    "Explanation: One optimal set of moves is to take from the 2nd and 3rd piles for 8 turns until they are empty.\n",
    "After that, there are fewer than two non-empty piles, so the game ends.\n",
    "\n",
    "\"\"\""
   ]
  },
  {
   "cell_type": "code",
   "execution_count": 1,
   "metadata": {},
   "outputs": [],
   "source": [
    "def maximumScore_1(a, b, c):\n",
    "    a, b, c = sorted([a, b, c])\n",
    "\n",
    "    if a + b >= c:\n",
    "        return (a + b + c) // 2\n",
    "    else:\n",
    "        return (a + b)"
   ]
  },
  {
   "cell_type": "code",
   "execution_count": 2,
   "metadata": {},
   "outputs": [
    {
     "data": {
      "text/plain": [
       "6"
      ]
     },
     "execution_count": 2,
     "metadata": {},
     "output_type": "execute_result"
    }
   ],
   "source": [
    "a = 2\n",
    "b = 4\n",
    "c = 6\n",
    "\n",
    "maximumScore_1(a, b, c)"
   ]
  },
  {
   "cell_type": "code",
   "execution_count": 3,
   "metadata": {},
   "outputs": [
    {
     "data": {
      "text/plain": [
       "7"
      ]
     },
     "execution_count": 3,
     "metadata": {},
     "output_type": "execute_result"
    }
   ],
   "source": [
    "a = 4\n",
    "b = 4\n",
    "c = 6\n",
    "\n",
    "maximumScore_1(a, b, c)"
   ]
  },
  {
   "cell_type": "code",
   "execution_count": 4,
   "metadata": {},
   "outputs": [
    {
     "data": {
      "text/plain": [
       "8"
      ]
     },
     "execution_count": 4,
     "metadata": {},
     "output_type": "execute_result"
    }
   ],
   "source": [
    "a = 1\n",
    "b = 8\n",
    "c = 8\n",
    "\n",
    "maximumScore_1(a, b, c)"
   ]
  },
  {
   "cell_type": "code",
   "execution_count": 5,
   "metadata": {},
   "outputs": [],
   "source": [
    "def maximumScore_2(a, b, c):\n",
    "    A = [a, b, c]\n",
    "    A.sort()\n",
    "    res = 0\n",
    "\n",
    "    while (A[0] and A[1]) or (A[1] and A[2]) or (A[0] and A[2]):\n",
    "        res += 1\n",
    "\n",
    "        A[1] -= 1\n",
    "        A[2] -= 1\n",
    "        A.sort()\n",
    "\n",
    "    return res"
   ]
  },
  {
   "cell_type": "code",
   "execution_count": 6,
   "metadata": {},
   "outputs": [
    {
     "data": {
      "text/plain": [
       "6"
      ]
     },
     "execution_count": 6,
     "metadata": {},
     "output_type": "execute_result"
    }
   ],
   "source": [
    "a = 2\n",
    "b = 4\n",
    "c = 6\n",
    "\n",
    "maximumScore_2(a, b, c)"
   ]
  },
  {
   "cell_type": "code",
   "execution_count": 7,
   "metadata": {},
   "outputs": [
    {
     "data": {
      "text/plain": [
       "7"
      ]
     },
     "execution_count": 7,
     "metadata": {},
     "output_type": "execute_result"
    }
   ],
   "source": [
    "a = 4\n",
    "b = 4\n",
    "c = 6\n",
    "\n",
    "maximumScore_2(a, b, c)"
   ]
  },
  {
   "cell_type": "code",
   "execution_count": 8,
   "metadata": {},
   "outputs": [
    {
     "data": {
      "text/plain": [
       "8"
      ]
     },
     "execution_count": 8,
     "metadata": {},
     "output_type": "execute_result"
    }
   ],
   "source": [
    "a = 1\n",
    "b = 8\n",
    "c = 8\n",
    "\n",
    "maximumScore_2(a, b, c)"
   ]
  },
  {
   "cell_type": "code",
   "execution_count": null,
   "metadata": {},
   "outputs": [],
   "source": []
  }
 ],
 "metadata": {
  "kernelspec": {
   "display_name": "Python 3",
   "language": "python",
   "name": "python3"
  },
  "language_info": {
   "codemirror_mode": {
    "name": "ipython",
    "version": 3
   },
   "file_extension": ".py",
   "mimetype": "text/x-python",
   "name": "python",
   "nbconvert_exporter": "python",
   "pygments_lexer": "ipython3",
   "version": "3.8.3"
  }
 },
 "nbformat": 4,
 "nbformat_minor": 4
}
