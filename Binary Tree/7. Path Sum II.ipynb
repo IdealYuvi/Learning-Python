{
 "cells": [
  {
   "cell_type": "markdown",
   "metadata": {},
   "source": [
    "# Given a binary tree and a sum, find all root-to-leaf paths where each path's sum equals the given sum.\n",
    "\n",
    "# Note: A leaf is a node with no children."
   ]
  },
  {
   "cell_type": "code",
   "execution_count": 1,
   "metadata": {},
   "outputs": [],
   "source": [
    "class BinaryTree:\n",
    "    def __init__(self, value):\n",
    "        self.val = value\n",
    "        self.left = None\n",
    "        self.right = None\n",
    "        \n",
    "a = BinaryTree(5)\n",
    "a.left = BinaryTree(4)\n",
    "a.right = BinaryTree(8)\n",
    "a.left.left = BinaryTree(11)\n",
    "a.left.left.left = BinaryTree(7)\n",
    "a.left.left.right = BinaryTree(2)\n",
    "a.right.left = BinaryTree(13)\n",
    "a.right.right = BinaryTree(4)\n",
    "a.right.right.left = BinaryTree(5)\n",
    "a.right.right.right = BinaryTree(1)"
   ]
  },
  {
   "cell_type": "code",
   "execution_count": null,
   "metadata": {},
   "outputs": [],
   "source": [
    "\"\"\"\n",
    "Input: tree = [5,4,8,11,null,13,4,7,2,null,null,5,1], sum = 22\n",
    "\n",
    "      5\n",
    "     / \\\n",
    "    4   8\n",
    "   /   / \\\n",
    "  11  13  4\n",
    " /  \\    / \\\n",
    "7    2  5   1\n",
    "\n",
    "Output: [[5,4,11,2],[5,8,4,5]]\n",
    "\n",
    "\"\"\""
   ]
  },
  {
   "cell_type": "code",
   "execution_count": 2,
   "metadata": {},
   "outputs": [],
   "source": [
    "def pathSum(root, sum):\n",
    "    if root is None:\n",
    "        return []\n",
    "\n",
    "    temp = []\n",
    "    res = []\n",
    "\n",
    "    helper(root, sum, 0, temp, res)\n",
    "\n",
    "    return res\n",
    "\n",
    "def helper(node, givenSum, runningSum, temp, res):\n",
    "    if node is None:\n",
    "        return \n",
    "\n",
    "    runningSum += node.val\n",
    "\n",
    "    if node.left is None and node.right is None:\n",
    "        if runningSum == givenSum:\n",
    "            res.append(temp + [node.val])\n",
    "\n",
    "    temp.append(node.val)\n",
    "    helper(node.left, givenSum, runningSum, temp, res)\n",
    "    temp.pop()\n",
    "\n",
    "    temp.append(node.val)\n",
    "    helper(node.right, givenSum, runningSum, temp, res)\n",
    "    temp.pop()"
   ]
  },
  {
   "cell_type": "code",
   "execution_count": 3,
   "metadata": {},
   "outputs": [
    {
     "data": {
      "text/plain": [
       "[[5, 4, 11, 2], [5, 8, 4, 5]]"
      ]
     },
     "execution_count": 3,
     "metadata": {},
     "output_type": "execute_result"
    }
   ],
   "source": [
    "pathSum(a, 22)"
   ]
  },
  {
   "cell_type": "code",
   "execution_count": null,
   "metadata": {},
   "outputs": [],
   "source": []
  }
 ],
 "metadata": {
  "kernelspec": {
   "display_name": "Python 3",
   "language": "python",
   "name": "python3"
  },
  "language_info": {
   "codemirror_mode": {
    "name": "ipython",
    "version": 3
   },
   "file_extension": ".py",
   "mimetype": "text/x-python",
   "name": "python",
   "nbconvert_exporter": "python",
   "pygments_lexer": "ipython3",
   "version": "3.8.3"
  }
 },
 "nbformat": 4,
 "nbformat_minor": 4
}
