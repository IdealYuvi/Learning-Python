{
 "cells": [
  {
   "cell_type": "markdown",
   "metadata": {},
   "source": [
    "# Given a binary tree, write a function to get the maximum width of the given tree. The maximum width of a tree is the maximum width among all levels.\n",
    "\n",
    "# The width of one level is defined as the length between the end-nodes (the leftmost and right most non-null nodes in the level, where the null nodes between the end-nodes are also counted into the length calculation."
   ]
  },
  {
   "cell_type": "code",
   "execution_count": null,
   "metadata": {},
   "outputs": [],
   "source": [
    "\"\"\"\n",
    "Sample Input 1: \n",
    "\n",
    "          1\n",
    "         / \\\n",
    "        3   2 \n",
    "       /        \n",
    "      5      \n",
    "\n",
    "Sample Output 1: 2\n",
    "\n",
    "Explanation: The maximum width existing in the second level with the length 2 (3,2).\n",
    "\n",
    "--------------------------------------------------------------------------------------------------\n",
    "\n",
    "Sample Input 2: \n",
    "\n",
    "          1\n",
    "         / \\\n",
    "        3   2\n",
    "       /     \\  \n",
    "      5       9 \n",
    "     /         \\\n",
    "    6           7\n",
    "    \n",
    "Sample Output 2: 8\n",
    "\n",
    "Explanation:The maximum width existing in the fourth level with the length 8 (6,null,null,null,null,null,null,7).\n",
    "\n",
    "\"\"\""
   ]
  },
  {
   "cell_type": "code",
   "execution_count": 1,
   "metadata": {},
   "outputs": [],
   "source": [
    "class BinaryTree:\n",
    "    def __init__(self, value):\n",
    "        self.val = value\n",
    "        self.left = None\n",
    "        self.right = None\n",
    "        \n",
    "a = BinaryTree(1)\n",
    "a.left = BinaryTree(3)\n",
    "a.right = BinaryTree(2)\n",
    "a.left.left = BinaryTree(5)\n",
    "a.left.right = BinaryTree(3)\n",
    "a.right.right = BinaryTree(9)"
   ]
  },
  {
   "cell_type": "code",
   "execution_count": null,
   "metadata": {},
   "outputs": [],
   "source": [
    "\"\"\"\n",
    "Input: \n",
    "\n",
    "           1\n",
    "         /   \\\n",
    "        3     2\n",
    "       / \\     \\  \n",
    "      5   3     9 \n",
    "\n",
    "Output: 4\n",
    "\n",
    "Explanation: The maximum width existing in the third level with the length 4 (5,3,null,9).\n",
    "\n",
    "\"\"\""
   ]
  },
  {
   "cell_type": "code",
   "execution_count": 2,
   "metadata": {},
   "outputs": [],
   "source": [
    "from collections import deque\n",
    "\n",
    "def widthOfBinaryTree(root):\n",
    "    result = 0\n",
    "    queue = deque()\n",
    "    queue.append((root, 1))\n",
    "\n",
    "    while queue:\n",
    "        n = len(queue)\n",
    "        result = max(result, queue[-1][1] - queue[0][1] + 1)\n",
    "\n",
    "        while n > 0:\n",
    "            node, pos = queue.popleft()\n",
    "\n",
    "            if node.left:\n",
    "                queue.append((node.left, pos*2))\n",
    "\n",
    "            if node.right:\n",
    "                queue.append((node.right, pos*2 + 1))\n",
    "\n",
    "            n -= 1\n",
    "\n",
    "    return result"
   ]
  },
  {
   "cell_type": "code",
   "execution_count": 3,
   "metadata": {},
   "outputs": [
    {
     "data": {
      "text/plain": [
       "4"
      ]
     },
     "execution_count": 3,
     "metadata": {},
     "output_type": "execute_result"
    }
   ],
   "source": [
    "widthOfBinaryTree(a)"
   ]
  },
  {
   "cell_type": "code",
   "execution_count": null,
   "metadata": {},
   "outputs": [],
   "source": []
  }
 ],
 "metadata": {
  "kernelspec": {
   "display_name": "Python 3",
   "language": "python",
   "name": "python3"
  },
  "language_info": {
   "codemirror_mode": {
    "name": "ipython",
    "version": 3
   },
   "file_extension": ".py",
   "mimetype": "text/x-python",
   "name": "python",
   "nbconvert_exporter": "python",
   "pygments_lexer": "ipython3",
   "version": "3.8.3"
  }
 },
 "nbformat": 4,
 "nbformat_minor": 4
}
