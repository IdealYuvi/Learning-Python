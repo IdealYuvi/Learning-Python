{
 "cells": [
  {
   "cell_type": "markdown",
   "metadata": {},
   "source": [
    "# Given a non-empty binary tree, find the maximum path sum.\n",
    "\n",
    "# For this problem, a path is defined as any node sequence from some starting node to any node in the tree along the parent-child connections. The path must contain at least one node and does not need to go through the root."
   ]
  },
  {
   "cell_type": "code",
   "execution_count": 1,
   "metadata": {},
   "outputs": [],
   "source": [
    "class BinaryTree:\n",
    "    def __init__(self, value):\n",
    "        self.value = value\n",
    "        self.left = None\n",
    "        self.right = None\n",
    "        \n",
    "a = BinaryTree(1)\n",
    "a.left = BinaryTree(2)\n",
    "a.right = BinaryTree(3)\n",
    "a.left.left = BinaryTree(4)\n",
    "a.left.right = BinaryTree(5)\n",
    "a.right.left = BinaryTree(6)\n",
    "a.right.right = BinaryTree(7)"
   ]
  },
  {
   "cell_type": "code",
   "execution_count": null,
   "metadata": {},
   "outputs": [],
   "source": [
    "\"\"\"\n",
    "Sample Input:\n",
    "\n",
    "        1\n",
    "       / \\\n",
    "      2   3\n",
    "     / \\ / \\\n",
    "    4  5 6  7\n",
    "\n",
    "Sample Output: 18 - from the path 5,2,1,3,7\n",
    "  \n",
    "\"\"\""
   ]
  },
  {
   "cell_type": "code",
   "execution_count": 2,
   "metadata": {},
   "outputs": [],
   "source": [
    "# O(n)T / O(log(n))S\n",
    "\n",
    "class Solution:\n",
    "    def __init__(self):\n",
    "        self.max_path_sum = float('-inf')\n",
    "        \n",
    "    def maxPathSum(self, root):\n",
    "        self.helper(root)\n",
    "        \n",
    "        return self.max_path_sum\n",
    "    \n",
    "    def helper(self, node):\n",
    "        if node is None:\n",
    "            return 0\n",
    "        \n",
    "        leftSum = max(0, self.helper(node.left))\n",
    "        rightSum = max(0, self.helper(node.right))\n",
    "        \n",
    "        self.max_path_sum = max(self.max_path_sum, leftSum + rightSum + node.value)\n",
    "        \n",
    "        return max(leftSum, rightSum) + node.value"
   ]
  },
  {
   "cell_type": "code",
   "execution_count": 3,
   "metadata": {},
   "outputs": [],
   "source": [
    "x = Solution()"
   ]
  },
  {
   "cell_type": "code",
   "execution_count": 4,
   "metadata": {},
   "outputs": [
    {
     "data": {
      "text/plain": [
       "18"
      ]
     },
     "execution_count": 4,
     "metadata": {},
     "output_type": "execute_result"
    }
   ],
   "source": [
    "x.maxPathSum(a)"
   ]
  },
  {
   "cell_type": "code",
   "execution_count": null,
   "metadata": {},
   "outputs": [],
   "source": []
  }
 ],
 "metadata": {
  "kernelspec": {
   "display_name": "Python 3",
   "language": "python",
   "name": "python3"
  },
  "language_info": {
   "codemirror_mode": {
    "name": "ipython",
    "version": 3
   },
   "file_extension": ".py",
   "mimetype": "text/x-python",
   "name": "python",
   "nbconvert_exporter": "python",
   "pygments_lexer": "ipython3",
   "version": "3.8.3"
  }
 },
 "nbformat": 4,
 "nbformat_minor": 4
}
