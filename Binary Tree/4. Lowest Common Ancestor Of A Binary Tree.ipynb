{
 "cells": [
  {
   "cell_type": "markdown",
   "metadata": {},
   "source": [
    "# Given a binary tree, find the lowest common ancestor (LCA) of two given nodes in the tree. The lowest common ancestor is defined between two nodes p and q as the lowest node in T that has both p and q as descendants (where we allow a node to be a descendant of itself)."
   ]
  },
  {
   "cell_type": "code",
   "execution_count": null,
   "metadata": {},
   "outputs": [],
   "source": [
    "\"\"\"\n",
    "        3\n",
    "      /   \\\n",
    "     5     1\n",
    "    / \\   / \\\n",
    "   6   2  0  8\n",
    "      / \\\n",
    "     7   4\n",
    "     \n",
    "Sample Input: root = [3,5,1,6,2,0,8,null,null,7,4], p = 5, q = 1\n",
    "Sample Output: 3\n",
    "\n",
    "Sample Input: root = [3,5,1,6,2,0,8,null,null,7,4], p = 5, q = 4\n",
    "Sample Output: 5\n",
    " \n",
    "\"\"\""
   ]
  },
  {
   "cell_type": "code",
   "execution_count": null,
   "metadata": {},
   "outputs": [],
   "source": [
    "# Recursive sol.. O(n)T / O(d)S - d is height of tree\n",
    "\n",
    "def lowestCommonAncestor(root, p, q):\n",
    "        table = {'ans': None}\n",
    "        \n",
    "        self.getLCA(root, p, q, table)\n",
    "        \n",
    "        return table['ans']\n",
    "     \n",
    "def getLCA(node, p, q, table):\n",
    "    if not node:\n",
    "        return False\n",
    "\n",
    "    left = getLCA(node.left, p, q, table)\n",
    "    right = getLCA(node.right, p, q, table)\n",
    "\n",
    "    mid = (node == p) or (node == q)\n",
    "\n",
    "    if mid + left + right >= 2:\n",
    "        table['ans'] = node\n",
    "\n",
    "    return mid or left or right"
   ]
  },
  {
   "cell_type": "code",
   "execution_count": null,
   "metadata": {},
   "outputs": [],
   "source": [
    "# Iterative sol.. O(n)T / O(n)S \n",
    "\n",
    "def lowestCommonAncestor(root, p, q):\n",
    "    stack = [root]\n",
    "    parent = {root: None}\n",
    "\n",
    "    while p not in parent or q not in parent:\n",
    "        node = stack.pop()\n",
    "\n",
    "        if node.left:\n",
    "            parent[node.left] = node\n",
    "            stack.append(node.left)\n",
    "\n",
    "        if node.right:\n",
    "            parent[node.right] = node\n",
    "            stack.append(node.right)\n",
    "\n",
    "    ancestors = set()\n",
    "\n",
    "    while p:\n",
    "        ancestors.add(p)\n",
    "        p = parent[p]\n",
    "\n",
    "    while q not in ancestors:\n",
    "        q = parent[q]\n",
    "\n",
    "    return q"
   ]
  }
 ],
 "metadata": {
  "kernelspec": {
   "display_name": "Python 3",
   "language": "python",
   "name": "python3"
  },
  "language_info": {
   "codemirror_mode": {
    "name": "ipython",
    "version": 3
   },
   "file_extension": ".py",
   "mimetype": "text/x-python",
   "name": "python",
   "nbconvert_exporter": "python",
   "pygments_lexer": "ipython3",
   "version": "3.8.3"
  }
 },
 "nbformat": 4,
 "nbformat_minor": 4
}
