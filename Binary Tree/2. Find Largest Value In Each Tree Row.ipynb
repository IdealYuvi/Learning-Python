{
 "cells": [
  {
   "cell_type": "markdown",
   "metadata": {},
   "source": [
    "# Given the root of a binary tree, return an array of the largest value in each row of the tree."
   ]
  },
  {
   "cell_type": "code",
   "execution_count": 1,
   "metadata": {},
   "outputs": [],
   "source": [
    "class BinaryTree:\n",
    "    def __init__(self, value):\n",
    "        self.val = value\n",
    "        self.left = None\n",
    "        self.right = None\n",
    "        \n",
    "a = BinaryTree(1)\n",
    "a.left = BinaryTree(3)\n",
    "a.right = BinaryTree(2)\n",
    "a.left.left = BinaryTree(5)\n",
    "a.left.right = BinaryTree(3)\n",
    "a.right.right = BinaryTree(9)"
   ]
  },
  {
   "cell_type": "code",
   "execution_count": null,
   "metadata": {},
   "outputs": [],
   "source": [
    "\"\"\"\n",
    "Sample Input: root = [1,3,2,5,3,null,9]\n",
    "\n",
    "                1\n",
    "               / \\\n",
    "              3   2\n",
    "             / \\   \\\n",
    "            5  3    9\n",
    "            \n",
    "Sample Output: [1,3,9]\n",
    "\"\"\""
   ]
  },
  {
   "cell_type": "code",
   "execution_count": 2,
   "metadata": {},
   "outputs": [],
   "source": [
    "# O(n)T / O(n)S\n",
    "\n",
    "# use deque because it gives O(1) time complexity for popping the 0'th element\n",
    "from collections import deque\n",
    "\n",
    "def largestValues(root):\n",
    "    if not root:\n",
    "        return []\n",
    "\n",
    "    queue = deque()\n",
    "    queue.append(root)\n",
    "    maxVals = [root.val]\n",
    "\n",
    "    while queue:\n",
    "        size = len(queue)\n",
    "        maxVal = float('-inf')\n",
    "\n",
    "        for i in range(size):\n",
    "            node = queue.popleft()\n",
    "\n",
    "            if node.left:\n",
    "                maxVal = max(node.left.val, maxVal)\n",
    "                queue.append(node.left)\n",
    "\n",
    "            if node.right:\n",
    "                maxVal = max(node.right.val, maxVal)\n",
    "                queue.append(node.right)\n",
    "\n",
    "        if maxVal != float('-inf'):\n",
    "            maxVals.append(maxVal)\n",
    "\n",
    "    return maxVals"
   ]
  },
  {
   "cell_type": "code",
   "execution_count": 3,
   "metadata": {},
   "outputs": [
    {
     "data": {
      "text/plain": [
       "[1, 3, 9]"
      ]
     },
     "execution_count": 3,
     "metadata": {},
     "output_type": "execute_result"
    }
   ],
   "source": [
    "largestValues(a)"
   ]
  },
  {
   "cell_type": "code",
   "execution_count": null,
   "metadata": {},
   "outputs": [],
   "source": []
  }
 ],
 "metadata": {
  "kernelspec": {
   "display_name": "Python 3",
   "language": "python",
   "name": "python3"
  },
  "language_info": {
   "codemirror_mode": {
    "name": "ipython",
    "version": 3
   },
   "file_extension": ".py",
   "mimetype": "text/x-python",
   "name": "python",
   "nbconvert_exporter": "python",
   "pygments_lexer": "ipython3",
   "version": "3.8.3"
  }
 },
 "nbformat": 4,
 "nbformat_minor": 4
}
