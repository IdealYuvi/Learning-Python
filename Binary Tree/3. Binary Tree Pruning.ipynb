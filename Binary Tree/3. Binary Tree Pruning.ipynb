{
 "cells": [
  {
   "cell_type": "markdown",
   "metadata": {},
   "source": [
    "# We are given the head node root of a binary tree, where additionally every node's value is either a 0 or a 1. Return the same tree where every subtree (of the given tree) not containing a 1 has been removed.\n",
    "\n",
    "# (Recall that the subtree of a node X is X, plus every node that is a descendant of X.)"
   ]
  },
  {
   "cell_type": "code",
   "execution_count": null,
   "metadata": {},
   "outputs": [],
   "source": [
    "\"\"\"\n",
    "Sample Input: [1,null,0,0,1]\n",
    "Sample Output: [1,null,0,null,1]\n",
    "    \n",
    "        1                        1\n",
    "         \\                        \\ \n",
    "          0         ====>          0\n",
    "         / \\                        \\\n",
    "        0    1                       1\n",
    "        \n",
    "Sample Input: [1,0,1,0,0,0,1]\n",
    "Sample Output: [1,null,1,null,1]\n",
    "\n",
    "         1                        1\n",
    "        / \\                        \\ \n",
    "       0   1         ====>          1\n",
    "      / \\ / \\                        \\\n",
    "     0  0 0  1                        1\n",
    "        \n",
    "\"\"\""
   ]
  },
  {
   "cell_type": "code",
   "execution_count": null,
   "metadata": {},
   "outputs": [],
   "source": [
    "# O(n)T / O(d)S - d is depth of tree\n",
    "\n",
    "def pruneTree(root):\n",
    "    if root is None:\n",
    "        return None\n",
    "\n",
    "    containsOne(root)\n",
    "\n",
    "    if root.val == 0 and root.left is None and root.right is None:\n",
    "        return None\n",
    "\n",
    "    return root\n",
    "\n",
    "def containsOne(self, node):\n",
    "    if node is None:\n",
    "        return False\n",
    "\n",
    "    leftContains = containsOne(node.left)\n",
    "    rightContains = containsOne(node.right)\n",
    "\n",
    "    if not leftContains:\n",
    "        node.left = None\n",
    "\n",
    "    if not rightContains:\n",
    "        node.right = None\n",
    "\n",
    "    return node.val == 1 or leftContains or rightContains"
   ]
  }
 ],
 "metadata": {
  "kernelspec": {
   "display_name": "Python 3",
   "language": "python",
   "name": "python3"
  },
  "language_info": {
   "codemirror_mode": {
    "name": "ipython",
    "version": 3
   },
   "file_extension": ".py",
   "mimetype": "text/x-python",
   "name": "python",
   "nbconvert_exporter": "python",
   "pygments_lexer": "ipython3",
   "version": "3.8.3"
  }
 },
 "nbformat": 4,
 "nbformat_minor": 4
}
