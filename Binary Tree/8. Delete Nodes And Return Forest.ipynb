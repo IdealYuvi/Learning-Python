{
 "cells": [
  {
   "cell_type": "markdown",
   "metadata": {},
   "source": [
    "# Given the root of a binary tree, each node in the tree has a distinct value.\n",
    "\n",
    "# After deleting all nodes with a value in to_delete, we are left with a forest (a disjoint union of trees).\n",
    "\n",
    "# Return the roots of the trees in the remaining forest.  You may return the result in any order."
   ]
  },
  {
   "cell_type": "code",
   "execution_count": null,
   "metadata": {},
   "outputs": [],
   "source": [
    "\"\"\"\n",
    "Input: root = [1,2,3,4,5,6,7], to_delete = [3,5]\n",
    "\n",
    "                1\n",
    "              /   \\\n",
    "             2     3\n",
    "            / \\   / \\ \n",
    "           4  5  6   7 \n",
    "           \n",
    "Output: [[1,2,null,4],[6],[7]]\n",
    "\"\"\""
   ]
  },
  {
   "cell_type": "code",
   "execution_count": null,
   "metadata": {},
   "outputs": [],
   "source": [
    "# O(n + m)T / O(n + m)S - n is number of node in the tree, m is length of to_delete\n",
    "\n",
    "def delNodes(root, to_delete):\n",
    "    toDelete = set(to_delete)\n",
    "    result = []\n",
    "\n",
    "    postOrderTraversal(root, None, result, toDelete)\n",
    "\n",
    "    if root.val not in toDelete:\n",
    "        result.append(root)\n",
    "\n",
    "    return result\n",
    "\n",
    "def postOrderTraversal(node, parent, result, toDelete):\n",
    "    if node is None:\n",
    "        return\n",
    "\n",
    "    postOrderTraversal(node.left, node, result, toDelete)\n",
    "    postOrderTraversal(node.right, node, result, toDelete)\n",
    "\n",
    "    if node.val in toDelete:\n",
    "        if node.left:\n",
    "            result.append(node.left)\n",
    "        if node.right:\n",
    "            result.append(node.right)\n",
    "        if parent is not None:\n",
    "            if parent.left == node:\n",
    "                parent.left = None\n",
    "            elif parent.right == node:\n",
    "                parent.right = None"
   ]
  }
 ],
 "metadata": {
  "kernelspec": {
   "display_name": "Python 3",
   "language": "python",
   "name": "python3"
  },
  "language_info": {
   "codemirror_mode": {
    "name": "ipython",
    "version": 3
   },
   "file_extension": ".py",
   "mimetype": "text/x-python",
   "name": "python",
   "nbconvert_exporter": "python",
   "pygments_lexer": "ipython3",
   "version": "3.8.3"
  }
 },
 "nbformat": 4,
 "nbformat_minor": 4
}
