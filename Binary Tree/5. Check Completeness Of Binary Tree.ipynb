{
 "cells": [
  {
   "cell_type": "markdown",
   "metadata": {},
   "source": [
    "# Given the root of a binary tree, determine if it is a complete binary tree.\n",
    "\n",
    "# In a complete binary tree, every level, except possibly the last, is completely filled, and all nodes in the last level are as far left as possible. "
   ]
  },
  {
   "cell_type": "code",
   "execution_count": null,
   "metadata": {},
   "outputs": [],
   "source": [
    "def isCompleteTree(root):\n",
    "    queue = collections.deque()\n",
    "    queue.append(root)\n",
    "    seenNoneBefore = False\n",
    "\n",
    "    while queue:    \n",
    "        for i in range(len(queue)):\n",
    "            node = queue.popleft()\n",
    "\n",
    "            if node is None:\n",
    "                seenNoneBefore = True\n",
    "                continue\n",
    "\n",
    "            if seenNoneBefore:\n",
    "                return False\n",
    "\n",
    "            queue.append(node.left)\n",
    "            queue.append(node.right)\n",
    "\n",
    "    return True"
   ]
  }
 ],
 "metadata": {
  "kernelspec": {
   "display_name": "Python 3",
   "language": "python",
   "name": "python3"
  },
  "language_info": {
   "codemirror_mode": {
    "name": "ipython",
    "version": 3
   },
   "file_extension": ".py",
   "mimetype": "text/x-python",
   "name": "python",
   "nbconvert_exporter": "python",
   "pygments_lexer": "ipython3",
   "version": "3.8.3"
  }
 },
 "nbformat": 4,
 "nbformat_minor": 4
}
