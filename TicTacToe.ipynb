{
 "cells": [
  {
   "cell_type": "code",
   "execution_count": 1,
   "metadata": {},
   "outputs": [],
   "source": [
    "from IPython.display import clear_output\n",
    "\n",
    "def display_board(board):\n",
    "    \n",
    "    clear_output()\n",
    "    \n",
    "    print(board[1]+'|'+board[2]+'|'+board[3])\n",
    "    print(board[4]+'|'+board[5]+'|'+board[6])\n",
    "    print(board[7]+'|'+board[8]+'|'+board[9])"
   ]
  },
  {
   "cell_type": "code",
   "execution_count": 2,
   "metadata": {},
   "outputs": [],
   "source": [
    "def marker():\n",
    "    \n",
    "    player1 = input(\"Player 1, choose X or O: \").upper()\n",
    "    \n",
    "    if player1 == 'X':\n",
    "        player2 = 'O'\n",
    "    else:\n",
    "        player2 = 'X'\n",
    "        \n",
    "    return (player1, player2)"
   ]
  },
  {
   "cell_type": "code",
   "execution_count": 3,
   "metadata": {},
   "outputs": [],
   "source": [
    "def win_check(marker):\n",
    "    \n",
    "    if ( (board[1]==board[2]==board[3]==marker) or \\\n",
    "        (board[4]==board[5]==board[6]==marker) or \\\n",
    "        (board[7]==board[8]==board[9]==marker) or \\\n",
    "       (board[1]==board[4]==board[7]==marker) or \\\n",
    "       (board[2]==board[5]==board[8]==marker) or \\\n",
    "       (board[3]==board[6]==board[9]==marker) or \\\n",
    "       (board[1]==board[5]==board[9]==marker) or \\\n",
    "       (board[3]==board[5]==board[7]==marker) ):\n",
    "        return True\n",
    "    else: \n",
    "        return False"
   ]
  },
  {
   "cell_type": "code",
   "execution_count": 4,
   "metadata": {},
   "outputs": [],
   "source": [
    "def board_check(board):\n",
    "    \n",
    "    if ' ' not in board[1:]:\n",
    "        print(\"It's a Tie\")\n",
    "        return True\n",
    "    else:\n",
    "        return False"
   ]
  },
  {
   "cell_type": "code",
   "execution_count": 5,
   "metadata": {},
   "outputs": [],
   "source": [
    "def place_marker(marker, position, board):\n",
    "    \n",
    "    board[position] = marker\n",
    "    \n",
    "    return board"
   ]
  },
  {
   "cell_type": "code",
   "execution_count": 6,
   "metadata": {},
   "outputs": [],
   "source": [
    "def get_position():\n",
    "    \n",
    "    position = input(\"Choose a position (1-9): \")\n",
    "    \n",
    "    return position"
   ]
  },
  {
   "cell_type": "code",
   "execution_count": 7,
   "metadata": {},
   "outputs": [
    {
     "name": "stdout",
     "output_type": "stream",
     "text": [
      "X| |O\n",
      "O|X|O\n",
      " | |X\n",
      "Yay! Player 2 Wins!\n",
      "Thank You for Playing!\n"
     ]
    }
   ],
   "source": [
    "print(\"Welcome to Tic Tac Toe\")\n",
    "\n",
    "board = [' ']*10\n",
    "player1, player2 =  marker()\n",
    "\n",
    "game = True\n",
    "\n",
    "while game:\n",
    "    \n",
    "    display_board(board)\n",
    "    print('Player 1, choose a position!')\n",
    "    position = int(get_position())\n",
    "    board = place_marker(player1, position, board)\n",
    "    display_board(board)\n",
    "    if win_check(player1):\n",
    "        print(\"Yay! Player 1 Wins!\")\n",
    "        break\n",
    "    if board_check(board):\n",
    "        break\n",
    "    print('Player 2, choose a position!')\n",
    "    position = int(get_position())\n",
    "    board = place_marker(player2, position, board)\n",
    "    display_board(board)\n",
    "    if win_check(player2):\n",
    "        print(\"Yay! Player 2 Wins!\")\n",
    "        break\n",
    "    if board_check(board):\n",
    "        break\n",
    "\n",
    "print(\"Thank You for Playing!\")"
   ]
  },
  {
   "cell_type": "code",
   "execution_count": null,
   "metadata": {},
   "outputs": [],
   "source": []
  }
 ],
 "metadata": {
  "kernelspec": {
   "display_name": "Python 3",
   "language": "python",
   "name": "python3"
  },
  "language_info": {
   "codemirror_mode": {
    "name": "ipython",
    "version": 3
   },
   "file_extension": ".py",
   "mimetype": "text/x-python",
   "name": "python",
   "nbconvert_exporter": "python",
   "pygments_lexer": "ipython3",
   "version": "3.7.6"
  }
 },
 "nbformat": 4,
 "nbformat_minor": 4
}
