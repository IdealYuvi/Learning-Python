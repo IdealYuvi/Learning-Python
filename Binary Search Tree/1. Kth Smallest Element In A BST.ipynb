{
 "cells": [
  {
   "cell_type": "markdown",
   "metadata": {},
   "source": [
    "# Given a binary search tree and an integer k, write a function to find the kth smallest element in it."
   ]
  },
  {
   "cell_type": "code",
   "execution_count": null,
   "metadata": {},
   "outputs": [],
   "source": [
    "\"\"\"\n",
    "Example 1:\n",
    "Input: root = [3,1,4,null,2], k = 1\n",
    "               3\n",
    "              / \\\n",
    "             1   4\n",
    "              \\\n",
    "               2\n",
    "Output: 1\n",
    "____________________________________________________\n",
    "\n",
    "Example 2:\n",
    "Input: root = [5,3,6,2,4,null,null,1], k = 3\n",
    "               5\n",
    "              / \\\n",
    "             3   6\n",
    "            / \\\n",
    "           2   4\n",
    "          /\n",
    "         1\n",
    "Output: 3\n",
    "\n",
    "\"\"\""
   ]
  },
  {
   "cell_type": "code",
   "execution_count": null,
   "metadata": {},
   "outputs": [],
   "source": [
    "def kthSmallest(root, k):\n",
    "    arr = []\n",
    "    helper(root, arr, k)\n",
    "\n",
    "    return arr[k - 1]\n",
    "\n",
    "def helper(node, arr, k):\n",
    "    if node is None:\n",
    "        return \n",
    "\n",
    "    if len(arr) == k:\n",
    "        return \n",
    "\n",
    "    helper(node.left, arr, k)\n",
    "    arr.append(node.val)\n",
    "    helper(node.right, arr, k)"
   ]
  }
 ],
 "metadata": {
  "kernelspec": {
   "display_name": "Python 3",
   "language": "python",
   "name": "python3"
  },
  "language_info": {
   "codemirror_mode": {
    "name": "ipython",
    "version": 3
   },
   "file_extension": ".py",
   "mimetype": "text/x-python",
   "name": "python",
   "nbconvert_exporter": "python",
   "pygments_lexer": "ipython3",
   "version": "3.8.3"
  }
 },
 "nbformat": 4,
 "nbformat_minor": 4
}
