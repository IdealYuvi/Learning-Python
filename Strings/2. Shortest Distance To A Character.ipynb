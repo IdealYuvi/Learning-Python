{
 "cells": [
  {
   "cell_type": "markdown",
   "metadata": {},
   "source": [
    "# Given a string S and a character C, return an array of integers representing the shortest distance from the character C in the string."
   ]
  },
  {
   "cell_type": "code",
   "execution_count": null,
   "metadata": {},
   "outputs": [],
   "source": [
    "\"\"\"\n",
    "Input: S = \"loveleetcode\", C = 'e'\n",
    "Output: [3, 2, 1, 0, 1, 0, 0, 1, 2, 2, 1, 0]\n",
    "\n",
    "\"\"\""
   ]
  },
  {
   "cell_type": "code",
   "execution_count": 1,
   "metadata": {},
   "outputs": [],
   "source": [
    "def shortestToChar(S, C):\n",
    "    res = [float('inf')] * len(S)\n",
    "    dist = None\n",
    "\n",
    "    for i in range(len(S)):\n",
    "        let = S[i]\n",
    "\n",
    "        if let == C:\n",
    "            dist = i\n",
    "            res[i] = 0\n",
    "            continue\n",
    "\n",
    "        res[i] = min(abs(dist - i), res[i]) if dist is not None else res[i]\n",
    "\n",
    "    for i in reversed(range(len(S))):\n",
    "        let = S[i]\n",
    "\n",
    "        if let == C:\n",
    "            dist = i\n",
    "            res[i] = 0\n",
    "            continue\n",
    "\n",
    "        res[i] = min(abs(dist - i), res[i]) if dist is not None else res[i]\n",
    "\n",
    "    return res"
   ]
  },
  {
   "cell_type": "code",
   "execution_count": 2,
   "metadata": {},
   "outputs": [
    {
     "data": {
      "text/plain": [
       "[3, 2, 1, 0, 1, 0, 0, 1, 2, 2, 1, 0]"
      ]
     },
     "execution_count": 2,
     "metadata": {},
     "output_type": "execute_result"
    }
   ],
   "source": [
    "S = \"loveleetcode\"\n",
    "C = 'e'\n",
    "\n",
    "shortestToChar(S, C)"
   ]
  },
  {
   "cell_type": "code",
   "execution_count": null,
   "metadata": {},
   "outputs": [],
   "source": []
  }
 ],
 "metadata": {
  "kernelspec": {
   "display_name": "Python 3",
   "language": "python",
   "name": "python3"
  },
  "language_info": {
   "codemirror_mode": {
    "name": "ipython",
    "version": 3
   },
   "file_extension": ".py",
   "mimetype": "text/x-python",
   "name": "python",
   "nbconvert_exporter": "python",
   "pygments_lexer": "ipython3",
   "version": "3.8.3"
  }
 },
 "nbformat": 4,
 "nbformat_minor": 4
}
