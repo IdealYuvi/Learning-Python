{
 "cells": [
  {
   "cell_type": "markdown",
   "metadata": {},
   "source": [
    "# Given a string, find the length of the longest substring that contains at most two distinct characters."
   ]
  },
  {
   "cell_type": "code",
   "execution_count": null,
   "metadata": {},
   "outputs": [],
   "source": [
    "\"\"\"\n",
    "Input: 'eceba'\n",
    "Output: 3\n",
    "Explanation: 'ece' is the longest substring with atmost 2 characters\n",
    "\n",
    "Input: 'ccaabbb'\n",
    "Output: 5\n",
    "Explanation: 'aabbb' is the longest substring with atmost 2 characters\n",
    "\"\"\""
   ]
  },
  {
   "cell_type": "code",
   "execution_count": 1,
   "metadata": {},
   "outputs": [],
   "source": [
    "def findLength(s):\n",
    "    tab = {}\n",
    "    tabSize = 0\n",
    "    curL = 0\n",
    "    maxL = 0\n",
    "    left = 0\n",
    "    \n",
    "    for right, let in enumerate(s):\n",
    "        if tabSize <= 2:\n",
    "            if let in tab:\n",
    "                tab[let] += 1\n",
    "                curL += 1\n",
    "            else:\n",
    "                tab[let] = 1\n",
    "                tabSize += 1\n",
    "                curL += 1\n",
    "                \n",
    "        if tabSize <= 2:\n",
    "            maxL = max(curL, maxL)\n",
    "                \n",
    "        while tabSize > 2:\n",
    "            tab[s[left]] -= 1\n",
    "            curL -= 1\n",
    "            \n",
    "            if tab[s[left]] == 0:\n",
    "                tabSize -= 1\n",
    "                del tab[s[left]]\n",
    "                \n",
    "            left += 1\n",
    "            \n",
    "    return maxL"
   ]
  },
  {
   "cell_type": "code",
   "execution_count": 2,
   "metadata": {},
   "outputs": [
    {
     "data": {
      "text/plain": [
       "3"
      ]
     },
     "execution_count": 2,
     "metadata": {},
     "output_type": "execute_result"
    }
   ],
   "source": [
    "s = 'eceba'\n",
    "\n",
    "findLength(s)"
   ]
  },
  {
   "cell_type": "code",
   "execution_count": 3,
   "metadata": {},
   "outputs": [
    {
     "data": {
      "text/plain": [
       "5"
      ]
     },
     "execution_count": 3,
     "metadata": {},
     "output_type": "execute_result"
    }
   ],
   "source": [
    "s = 'ccaabbb'\n",
    "\n",
    "findLength(s)"
   ]
  },
  {
   "cell_type": "code",
   "execution_count": 4,
   "metadata": {},
   "outputs": [
    {
     "data": {
      "text/plain": [
       "6"
      ]
     },
     "execution_count": 4,
     "metadata": {},
     "output_type": "execute_result"
    }
   ],
   "source": [
    "s = 'aabacbebebe'\n",
    "\n",
    "findLength(s)"
   ]
  },
  {
   "cell_type": "code",
   "execution_count": null,
   "metadata": {},
   "outputs": [],
   "source": []
  }
 ],
 "metadata": {
  "kernelspec": {
   "display_name": "Python 3",
   "language": "python",
   "name": "python3"
  },
  "language_info": {
   "codemirror_mode": {
    "name": "ipython",
    "version": 3
   },
   "file_extension": ".py",
   "mimetype": "text/x-python",
   "name": "python",
   "nbconvert_exporter": "python",
   "pygments_lexer": "ipython3",
   "version": "3.8.3"
  }
 },
 "nbformat": 4,
 "nbformat_minor": 4
}
