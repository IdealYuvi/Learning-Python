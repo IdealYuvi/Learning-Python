{
 "cells": [
  {
   "cell_type": "markdown",
   "metadata": {},
   "source": [
    "# Given two sorted arrays nums1 and nums2 of size m and n respectively, return the median of the two sorted arrays.\n",
    "\n",
    "# Follow up: The overall run time complexity should be O(log (m+n))."
   ]
  },
  {
   "cell_type": "code",
   "execution_count": null,
   "metadata": {},
   "outputs": [],
   "source": [
    "\"\"\"\n",
    "Example 1:\n",
    "Input: nums1 = [1,3], nums2 = [2]\n",
    "Output: 2.00000\n",
    "Explanation: merged array = [1,2,3] and median is 2.\n",
    "\n",
    "Example 2:\n",
    "Input: nums1 = [1,2], nums2 = [3,4]\n",
    "Output: 2.50000\n",
    "Explanation: merged array = [1,2,3,4] and median is (2 + 3) / 2 = 2.5.\n",
    "\n",
    "Example 3:\n",
    "Input: nums1 = [0,0], nums2 = [0,0]\n",
    "Output: 0.00000\n",
    "\n",
    "Example 4:\n",
    "Input: nums1 = [], nums2 = [1]\n",
    "Output: 1.00000\n",
    "\n",
    "Example 5:\n",
    "Input: nums1 = [3,4,5,6,7,8], nums2 = [1,2,3,4,5,6,7]\n",
    "Output: 5.00000\n",
    "\n",
    "\"\"\""
   ]
  },
  {
   "cell_type": "code",
   "execution_count": 1,
   "metadata": {},
   "outputs": [],
   "source": [
    "# O(log(min(x, y)))T / O(1)S\n",
    "\n",
    "def findMedianSortedArrays(nums1, nums2):\n",
    "    if len(nums1) > len(nums2):\n",
    "        return findMedianSortedArrays(nums2, nums1)\n",
    "\n",
    "    x = len(nums1)\n",
    "    y = len(nums2)\n",
    "\n",
    "    start = 0\n",
    "    end = x\n",
    "\n",
    "    while start <= end:\n",
    "        partitionX = (start + end) // 2\n",
    "        partitionY = ((x + y + 1) // 2) - partitionX\n",
    "\n",
    "        x1 = nums1[partitionX - 1] if partitionX != 0 else float('-inf')\n",
    "        x2 = nums1[partitionX] if partitionX != x else float('inf')\n",
    "\n",
    "        y1 = nums2[partitionY - 1] if partitionY != 0 else float('-inf')\n",
    "        y2 = nums2[partitionY] if partitionY != y else float('inf')\n",
    "\n",
    "        if x1 <= y2 and y1 <= x2:\n",
    "            if (x + y) % 2:\n",
    "                return max(x1, y1)\n",
    "            else:\n",
    "                return (max(x1, y1) + min(x2, y2)) / 2\n",
    "        elif x1 > y2:\n",
    "            end = partitionX - 1\n",
    "        else:\n",
    "            start = partitionX + 1\n"
   ]
  },
  {
   "cell_type": "code",
   "execution_count": 2,
   "metadata": {},
   "outputs": [
    {
     "data": {
      "text/plain": [
       "2"
      ]
     },
     "execution_count": 2,
     "metadata": {},
     "output_type": "execute_result"
    }
   ],
   "source": [
    "nums1 = [1,3]\n",
    "nums2 = [2]\n",
    "\n",
    "findMedianSortedArrays(nums1, nums2)"
   ]
  },
  {
   "cell_type": "code",
   "execution_count": 3,
   "metadata": {},
   "outputs": [
    {
     "data": {
      "text/plain": [
       "1"
      ]
     },
     "execution_count": 3,
     "metadata": {},
     "output_type": "execute_result"
    }
   ],
   "source": [
    "nums1 = []\n",
    "nums2 = [1]\n",
    "\n",
    "findMedianSortedArrays(nums1, nums2)"
   ]
  },
  {
   "cell_type": "code",
   "execution_count": 4,
   "metadata": {},
   "outputs": [
    {
     "data": {
      "text/plain": [
       "5"
      ]
     },
     "execution_count": 4,
     "metadata": {},
     "output_type": "execute_result"
    }
   ],
   "source": [
    "nums1 = [3,4,5,6,7,8]\n",
    "nums2 = [1,2,3,4,5,6,7]\n",
    "\n",
    "findMedianSortedArrays(nums1, nums2)"
   ]
  },
  {
   "cell_type": "code",
   "execution_count": null,
   "metadata": {},
   "outputs": [],
   "source": []
  }
 ],
 "metadata": {
  "kernelspec": {
   "display_name": "Python 3",
   "language": "python",
   "name": "python3"
  },
  "language_info": {
   "codemirror_mode": {
    "name": "ipython",
    "version": 3
   },
   "file_extension": ".py",
   "mimetype": "text/x-python",
   "name": "python",
   "nbconvert_exporter": "python",
   "pygments_lexer": "ipython3",
   "version": "3.8.3"
  }
 },
 "nbformat": 4,
 "nbformat_minor": 4
}
