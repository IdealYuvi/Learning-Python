{
 "cells": [
  {
   "cell_type": "markdown",
   "metadata": {},
   "source": [
    "# Given an array of integers nums containing n + 1 integers where each integer is in the range [1, n] inclusive. There is only one duplicate number in nums, return this duplicate number.\n",
    "\n",
    "# Follow-ups: \n",
    "# How can we prove that at least one duplicate number must exist in nums? \n",
    "# Can you solve the problem without modifying the array nums?\n",
    "# Can you solve the problem using only constant, O(1) extra space?\n",
    "# Can you solve the problem with runtime complexity less than O(n2)?\n"
   ]
  },
  {
   "cell_type": "code",
   "execution_count": null,
   "metadata": {},
   "outputs": [],
   "source": [
    "\"\"\"\n",
    "Sample Input: nums = [1,3,4,2,2]\n",
    "Sample Output: 2\n",
    "\"\"\""
   ]
  },
  {
   "cell_type": "code",
   "execution_count": 1,
   "metadata": {},
   "outputs": [],
   "source": [
    "# O(n)T / O(n)S\n",
    "\n",
    "def findDuplicate_1(nums):\n",
    "    seen = {}\n",
    "    for num in nums:\n",
    "        if num in seen:\n",
    "            return num\n",
    "        seen[num] = True\n",
    "\n",
    "    return -1"
   ]
  },
  {
   "cell_type": "code",
   "execution_count": 2,
   "metadata": {},
   "outputs": [
    {
     "data": {
      "text/plain": [
       "2"
      ]
     },
     "execution_count": 2,
     "metadata": {},
     "output_type": "execute_result"
    }
   ],
   "source": [
    "nums = [1,3,4,2,2]\n",
    "\n",
    "findDuplicate_1(nums)"
   ]
  },
  {
   "cell_type": "code",
   "execution_count": 3,
   "metadata": {},
   "outputs": [],
   "source": [
    "# Optimal sol.. O(n)T / O(1)S\n",
    " \n",
    "def findDuplicate_2(nums):\n",
    "    # Find the intersection point of the two runners.\n",
    "    tortoise = hare = nums[0]\n",
    "    \n",
    "    while True:\n",
    "        tortoise = nums[tortoise]\n",
    "        hare = nums[nums[hare]]\n",
    "        \n",
    "        if tortoise == hare:\n",
    "            break\n",
    "\n",
    "    # Find the \"entrance\" to the cycle.\n",
    "    tortoise = nums[0]\n",
    "    \n",
    "    while tortoise != hare:\n",
    "        tortoise = nums[tortoise]\n",
    "        hare = nums[hare]\n",
    "\n",
    "    return hare"
   ]
  },
  {
   "cell_type": "code",
   "execution_count": 4,
   "metadata": {},
   "outputs": [
    {
     "data": {
      "text/plain": [
       "2"
      ]
     },
     "execution_count": 4,
     "metadata": {},
     "output_type": "execute_result"
    }
   ],
   "source": [
    "nums = [1,3,4,2,2]\n",
    "\n",
    "findDuplicate_2(nums)"
   ]
  },
  {
   "cell_type": "code",
   "execution_count": 5,
   "metadata": {},
   "outputs": [
    {
     "data": {
      "text/plain": [
       "3"
      ]
     },
     "execution_count": 5,
     "metadata": {},
     "output_type": "execute_result"
    }
   ],
   "source": [
    "nums = [3,1,3,4,2]\n",
    "\n",
    "findDuplicate_2(nums)"
   ]
  },
  {
   "cell_type": "code",
   "execution_count": null,
   "metadata": {},
   "outputs": [],
   "source": []
  }
 ],
 "metadata": {
  "kernelspec": {
   "display_name": "Python 3",
   "language": "python",
   "name": "python3"
  },
  "language_info": {
   "codemirror_mode": {
    "name": "ipython",
    "version": 3
   },
   "file_extension": ".py",
   "mimetype": "text/x-python",
   "name": "python",
   "nbconvert_exporter": "python",
   "pygments_lexer": "ipython3",
   "version": "3.8.3"
  }
 },
 "nbformat": 4,
 "nbformat_minor": 4
}
