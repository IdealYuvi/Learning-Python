{
 "cells": [
  {
   "cell_type": "markdown",
   "metadata": {},
   "source": [
    "# You are given an array representing a row of seats where seats[i] = 1 represents a person sitting in the ith seat, and seats[i] = 0 represents that the ith seat is empty (0-indexed).\n",
    "\n",
    "# There is at least one empty seat, and at least one person sitting.\n",
    "\n",
    "# Alex wants to sit in the seat such that the distance between him and the closest person to him is maximized. \n",
    "\n",
    "# Return that maximum distance to the closest person."
   ]
  },
  {
   "cell_type": "code",
   "execution_count": null,
   "metadata": {},
   "outputs": [],
   "source": [
    "\"\"\"\n",
    "Sample Input: seats = [1,0,0,0,1,0,1]\n",
    "Sample Output: 2\n",
    "Explanation: \n",
    "If Alex sits in the second open seat (i.e. seats[2]), then the closest person has distance 2.\n",
    "If Alex sits in any other open seat, the closest person has distance 1.\n",
    "Thus, the maximum distance to the closest person is 2.\n",
    "\n",
    "Sample Input: seats = [1,0,0,0]\n",
    "Sample Output: 3\n",
    "Explanation: \n",
    "If Alex sits in the last seat (i.e. seats[3]), the closest person is 3 seats away.\n",
    "This is the maximum distance possible, so the answer is 3.\n",
    "\n",
    "Sample Input: seats = [0,1]\n",
    "Sample Output: 1\n",
    "\"\"\""
   ]
  },
  {
   "cell_type": "code",
   "execution_count": 1,
   "metadata": {},
   "outputs": [],
   "source": [
    "def maxDistToClosest(seats):\n",
    "    length = len(seats)\n",
    "    left = [length] * length\n",
    "    right = [length] * length\n",
    "\n",
    "    for i in range(length):\n",
    "        if seats[i] == 1:\n",
    "            left[i] = 0\n",
    "        elif i > 0:\n",
    "            left[i] = left[i - 1] + 1\n",
    "\n",
    "    for i in reversed(range(length)):\n",
    "        if seats[i] == 1:\n",
    "            right[i] = 0\n",
    "        elif i < length - 1:\n",
    "            right[i] = right[i + 1] + 1\n",
    "\n",
    "    maxDist = float('-inf')\n",
    "\n",
    "    for i in range(length):\n",
    "        dist = min(left[i], right[i])\n",
    "\n",
    "        if dist > maxDist:\n",
    "            maxDist = dist\n",
    "\n",
    "    return maxDist"
   ]
  },
  {
   "cell_type": "code",
   "execution_count": 2,
   "metadata": {},
   "outputs": [
    {
     "data": {
      "text/plain": [
       "2"
      ]
     },
     "execution_count": 2,
     "metadata": {},
     "output_type": "execute_result"
    }
   ],
   "source": [
    "seats = [1,0,0,0,1,0,1]\n",
    "\n",
    "maxDistToClosest(seats)"
   ]
  },
  {
   "cell_type": "code",
   "execution_count": 3,
   "metadata": {},
   "outputs": [
    {
     "data": {
      "text/plain": [
       "3"
      ]
     },
     "execution_count": 3,
     "metadata": {},
     "output_type": "execute_result"
    }
   ],
   "source": [
    "seats = [1,0,0,0]\n",
    "\n",
    "maxDistToClosest(seats)"
   ]
  },
  {
   "cell_type": "code",
   "execution_count": 4,
   "metadata": {},
   "outputs": [
    {
     "data": {
      "text/plain": [
       "1"
      ]
     },
     "execution_count": 4,
     "metadata": {},
     "output_type": "execute_result"
    }
   ],
   "source": [
    "seats = [0,1]\n",
    "\n",
    "maxDistToClosest(seats)"
   ]
  },
  {
   "cell_type": "code",
   "execution_count": 5,
   "metadata": {},
   "outputs": [
    {
     "data": {
      "text/plain": [
       "5"
      ]
     },
     "execution_count": 5,
     "metadata": {},
     "output_type": "execute_result"
    }
   ],
   "source": [
    "seats = [1,0,0,1,0,0,0,1,1,1,0,0,0,0,0,0,1,0,0,0,0,0]\n",
    "\n",
    "maxDistToClosest(seats)"
   ]
  },
  {
   "cell_type": "code",
   "execution_count": null,
   "metadata": {},
   "outputs": [],
   "source": []
  }
 ],
 "metadata": {
  "kernelspec": {
   "display_name": "Python 3",
   "language": "python",
   "name": "python3"
  },
  "language_info": {
   "codemirror_mode": {
    "name": "ipython",
    "version": 3
   },
   "file_extension": ".py",
   "mimetype": "text/x-python",
   "name": "python",
   "nbconvert_exporter": "python",
   "pygments_lexer": "ipython3",
   "version": "3.8.3"
  }
 },
 "nbformat": 4,
 "nbformat_minor": 4
}
