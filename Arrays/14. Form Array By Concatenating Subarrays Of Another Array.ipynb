{
 "cells": [
  {
   "cell_type": "markdown",
   "metadata": {},
   "source": [
    "# You are given a 2D integer array groups of length n. You are also given an integer array nums.\n",
    "\n",
    "# You are asked if you can choose n disjoint subarrays from the array nums such that the ith subarray is equal to groups[i] (0-indexed), and if i > 0, the (i-1)th subarray appears before the ith subarray in nums (i.e. the subarrays must be in the same order as groups).\n",
    "\n",
    "# Return true if you can do this task, and false otherwise.\n",
    "\n",
    "# Note that the subarrays are disjoint if and only if there is no index k such that nums[k] belongs to more than one subarray. A subarray is a contiguous sequence of elements within an array."
   ]
  },
  {
   "cell_type": "code",
   "execution_count": null,
   "metadata": {},
   "outputs": [],
   "source": [
    "\"\"\"\n",
    "Example 1:\n",
    "Input: groups = [[1,-1,-1],[3,-2,0]], nums = [1,-1,0,1,-1,-1,3,-2,0]\n",
    "Output: true\n",
    "Explanation: You can choose the 0th subarray as [1,-1,0,1,-1,-1,3,-2,0] and the 1st one as [1,-1,0,1,-1,-1,3,-2,0].\n",
    "             These subarrays are disjoint as they share no common nums[k] element.\n",
    "______________________________________________________________________________________________________________________\n",
    "\n",
    "Example 2:\n",
    "Input: groups = [[10,-2],[1,2,3,4]], nums = [1,2,3,4,10,-2]\n",
    "Output: false\n",
    "Explanation: Note that choosing the subarrays [1,2,3,4,10,-2] and [1,2,3,4,10,-2] is incorrect. \n",
    "             Because they are not in the same order as in groups. [10,-2] must come before [1,2,3,4].\n",
    "______________________________________________________________________________________________________________________\n",
    "\n",
    "Example 3:\n",
    "Input: groups = [[1,2,3],[3,4]], nums = [7,7,1,2,3,4,7,7]\n",
    "Output: false\n",
    "Explanation: Note that choosing the subarrays [7,7,1,2,3,4,7,7] and [7,7,1,2,3,4,7,7] is invalid. \n",
    "             Because they are not disjoint. They share a common elements nums[4] (0-indexed).\n",
    "\n",
    "\"\"\""
   ]
  },
  {
   "cell_type": "code",
   "execution_count": 1,
   "metadata": {},
   "outputs": [],
   "source": [
    "def canChoose(groups, nums):\n",
    "    i = 0\n",
    "\n",
    "    for grp in groups:\n",
    "        for j in range(i, len(nums)):\n",
    "            if nums[j] == grp[0] and grp == nums[j: j + len(grp)]:\n",
    "                i = j + len(grp)\n",
    "                break\n",
    "        else:\n",
    "            return False\n",
    "\n",
    "    return True"
   ]
  },
  {
   "cell_type": "code",
   "execution_count": 2,
   "metadata": {},
   "outputs": [
    {
     "data": {
      "text/plain": [
       "True"
      ]
     },
     "execution_count": 2,
     "metadata": {},
     "output_type": "execute_result"
    }
   ],
   "source": [
    "groups = [[1,-1,-1],[3,-2,0]]\n",
    "nums = [1,-1,0,1,-1,-1,3,-2,0]\n",
    "\n",
    "canChoose(groups, nums)"
   ]
  },
  {
   "cell_type": "code",
   "execution_count": 3,
   "metadata": {},
   "outputs": [
    {
     "data": {
      "text/plain": [
       "False"
      ]
     },
     "execution_count": 3,
     "metadata": {},
     "output_type": "execute_result"
    }
   ],
   "source": [
    "groups = [[10,-2],[1,2,3,4]]\n",
    "nums = [1,2,3,4,10,-2]\n",
    "\n",
    "canChoose(groups, nums)"
   ]
  },
  {
   "cell_type": "code",
   "execution_count": 4,
   "metadata": {},
   "outputs": [
    {
     "data": {
      "text/plain": [
       "False"
      ]
     },
     "execution_count": 4,
     "metadata": {},
     "output_type": "execute_result"
    }
   ],
   "source": [
    "groups = [[1,2,3],[3,4]] \n",
    "nums = [7,7,1,2,3,4,7,7]\n",
    "\n",
    "canChoose(groups, nums)"
   ]
  },
  {
   "cell_type": "code",
   "execution_count": null,
   "metadata": {},
   "outputs": [],
   "source": []
  }
 ],
 "metadata": {
  "kernelspec": {
   "display_name": "Python 3",
   "language": "python",
   "name": "python3"
  },
  "language_info": {
   "codemirror_mode": {
    "name": "ipython",
    "version": 3
   },
   "file_extension": ".py",
   "mimetype": "text/x-python",
   "name": "python",
   "nbconvert_exporter": "python",
   "pygments_lexer": "ipython3",
   "version": "3.8.3"
  }
 },
 "nbformat": 4,
 "nbformat_minor": 4
}
