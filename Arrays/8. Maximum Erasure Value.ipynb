{
 "cells": [
  {
   "cell_type": "markdown",
   "metadata": {},
   "source": [
    "# You are given an array of positive integers nums and want to erase a subarray containing unique elements. The score you get by erasing the subarray is equal to the sum of its elements.\n",
    "\n",
    "# Return the maximum score you can get by erasing exactly one subarray.\n",
    "\n",
    "# An array b is called to be a subarray of a if it forms a contiguous subsequence of a, that is, if it is equal to a[l],a[l+1],...,a[r] for some (l,r)."
   ]
  },
  {
   "cell_type": "code",
   "execution_count": null,
   "metadata": {},
   "outputs": [],
   "source": [
    "\"\"\"\n",
    "Example 1:\n",
    "Input: nums = [4,2,4,5,6]\n",
    "Output: 17\n",
    "Explanation: The optimal subarray here is [2,4,5,6].\n",
    "\n",
    "Example 2:\n",
    "Input: nums = [5,2,1,2,5,2,1,2,5]\n",
    "Output: 8\n",
    "Explanation: The optimal subarray here is [5,2,1] or [1,2,5].\n",
    "\"\"\""
   ]
  },
  {
   "cell_type": "code",
   "execution_count": 1,
   "metadata": {},
   "outputs": [],
   "source": [
    "# O(n)T / O(n)S\n",
    "\n",
    "def maximumErasureValue(nums):\n",
    "    prefix = [0]\n",
    "  \n",
    "    for i in range(len(nums)):\n",
    "        prefix.append(prefix[-1] + nums[i])\n",
    "    \n",
    "    print('prefix -', prefix) # for understanding\n",
    "    \n",
    "    left = 0\n",
    "    maxSum = 0\n",
    "    lastSeen = {}\n",
    "    \n",
    "    for i, num in enumerate(nums):\n",
    "        if num in lastSeen:\n",
    "            left = max(left, lastSeen[num])\n",
    "            \n",
    "        lastSeen[num] = i + 1        \n",
    "        maxSum = max(maxSum, prefix[i + 1] - prefix[left])\n",
    "        \n",
    "    return maxSum"
   ]
  },
  {
   "cell_type": "code",
   "execution_count": 2,
   "metadata": {},
   "outputs": [
    {
     "name": "stdout",
     "output_type": "stream",
     "text": [
      "prefix - [0, 4, 6, 10, 15, 21]\n"
     ]
    },
    {
     "data": {
      "text/plain": [
       "17"
      ]
     },
     "execution_count": 2,
     "metadata": {},
     "output_type": "execute_result"
    }
   ],
   "source": [
    "nums = [4,2,4,5,6]\n",
    "\n",
    "maximumErasureValue(nums)"
   ]
  },
  {
   "cell_type": "code",
   "execution_count": 3,
   "metadata": {},
   "outputs": [
    {
     "name": "stdout",
     "output_type": "stream",
     "text": [
      "prefix - [0, 5, 7, 8, 10, 15, 17, 18, 20, 25]\n"
     ]
    },
    {
     "data": {
      "text/plain": [
       "8"
      ]
     },
     "execution_count": 3,
     "metadata": {},
     "output_type": "execute_result"
    }
   ],
   "source": [
    "nums = [5,2,1,2,5,2,1,2,5]\n",
    "\n",
    "maximumErasureValue(nums)"
   ]
  },
  {
   "cell_type": "code",
   "execution_count": null,
   "metadata": {},
   "outputs": [],
   "source": []
  }
 ],
 "metadata": {
  "kernelspec": {
   "display_name": "Python 3",
   "language": "python",
   "name": "python3"
  },
  "language_info": {
   "codemirror_mode": {
    "name": "ipython",
    "version": 3
   },
   "file_extension": ".py",
   "mimetype": "text/x-python",
   "name": "python",
   "nbconvert_exporter": "python",
   "pygments_lexer": "ipython3",
   "version": "3.8.3"
  }
 },
 "nbformat": 4,
 "nbformat_minor": 4
}
