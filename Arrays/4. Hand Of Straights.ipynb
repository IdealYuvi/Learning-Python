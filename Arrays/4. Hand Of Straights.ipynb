{
 "cells": [
  {
   "cell_type": "markdown",
   "metadata": {},
   "source": [
    "# Alice has a hand of cards, given as an array of integers. Now she wants to rearrange the cards into groups so that each group is size W, and consists of W consecutive cards. Return true if and only if she can."
   ]
  },
  {
   "cell_type": "code",
   "execution_count": null,
   "metadata": {},
   "outputs": [],
   "source": [
    "\"\"\"\n",
    "Sample Input: hand = [1,2,3,6,2,3,4,7,8], W = 3\n",
    "Sample Output: true\n",
    "Explanation: Alice's hand can be rearranged as [1,2,3],[2,3,4],[6,7,8]\n",
    "\n",
    "Sample Input: hand = [1,2,3,4,5], W = 4\n",
    "Sample Output: false\n",
    "Explanation: Alice's hand can't be rearranged into groups of 4.\n",
    "\"\"\""
   ]
  },
  {
   "cell_type": "code",
   "execution_count": 1,
   "metadata": {},
   "outputs": [],
   "source": [
    "# O(n*(n/w))T / O(n)S - n is length of hand\n",
    "\n",
    "from collections import Counter\n",
    "\n",
    "def isNStraightHand(hand, w):\n",
    "    count = Counter(hand)\n",
    "\n",
    "    while count:\n",
    "        minVal = min(count)\n",
    "\n",
    "        for i in range(minVal, minVal + w):\n",
    "            val = count[i]\n",
    "\n",
    "            if not val:\n",
    "                return False\n",
    "            elif val == 1:\n",
    "                del count[i]\n",
    "            else:\n",
    "                count[i] -= 1\n",
    "\n",
    "    return True"
   ]
  },
  {
   "cell_type": "code",
   "execution_count": 2,
   "metadata": {},
   "outputs": [
    {
     "data": {
      "text/plain": [
       "False"
      ]
     },
     "execution_count": 2,
     "metadata": {},
     "output_type": "execute_result"
    }
   ],
   "source": [
    "hand = [1,2,3,4,5]\n",
    "w = 4\n",
    "\n",
    "isNStraightHand(hand, w)"
   ]
  },
  {
   "cell_type": "code",
   "execution_count": 3,
   "metadata": {},
   "outputs": [
    {
     "data": {
      "text/plain": [
       "True"
      ]
     },
     "execution_count": 3,
     "metadata": {},
     "output_type": "execute_result"
    }
   ],
   "source": [
    "hand = [1,2,3,6,2,3,4,7,8]\n",
    "w = 3\n",
    "\n",
    "isNStraightHand(hand, w)"
   ]
  },
  {
   "cell_type": "code",
   "execution_count": null,
   "metadata": {},
   "outputs": [],
   "source": []
  }
 ],
 "metadata": {
  "kernelspec": {
   "display_name": "Python 3",
   "language": "python",
   "name": "python3"
  },
  "language_info": {
   "codemirror_mode": {
    "name": "ipython",
    "version": 3
   },
   "file_extension": ".py",
   "mimetype": "text/x-python",
   "name": "python",
   "nbconvert_exporter": "python",
   "pygments_lexer": "ipython3",
   "version": "3.8.3"
  }
 },
 "nbformat": 4,
 "nbformat_minor": 4
}
