{
 "cells": [
  {
   "cell_type": "markdown",
   "metadata": {},
   "source": [
    "# Given an array, rotate the array to the right by k steps, where k is non-negative. Try to come up as many solutions as you can, there are at least 3 different ways to solve this problem. Could you do it in-place with O(1) extra space?"
   ]
  },
  {
   "cell_type": "code",
   "execution_count": null,
   "metadata": {},
   "outputs": [],
   "source": [
    "\"\"\"\n",
    "    Input: nums = [1,2,3,4,5,6,7], k = 3\n",
    "   \n",
    "    Output: [5,6,7,1,2,3,4]\n",
    "    \n",
    "    Explanation:\n",
    "        rotate 1 steps to the right: [7,1,2,3,4,5,6]\n",
    "        rotate 2 steps to the right: [6,7,1,2,3,4,5]\n",
    "        rotate 3 steps to the right: [5,6,7,1,2,3,4]\n",
    "\"\"\""
   ]
  },
  {
   "cell_type": "code",
   "execution_count": 1,
   "metadata": {},
   "outputs": [],
   "source": [
    "# Brute force method... O(n*k)T / O(1)S \n",
    "# All the numbers are shifted by one step(O(n)) k times.\n",
    "\n",
    "def rotate_1(nums, k):\n",
    "    k = k % len(nums) # if k > len(nums) it will help to reduce the k to nums level\n",
    "    \n",
    "    for i in range(k):\n",
    "        prev = nums[-1]\n",
    "        \n",
    "        for j in range(len(nums)):\n",
    "            nums[j], prev = prev, nums[j]\n",
    "            \n",
    "    return nums"
   ]
  },
  {
   "cell_type": "code",
   "execution_count": 2,
   "metadata": {},
   "outputs": [
    {
     "data": {
      "text/plain": [
       "[5, 6, 7, 1, 2, 3, 4]"
      ]
     },
     "execution_count": 2,
     "metadata": {},
     "output_type": "execute_result"
    }
   ],
   "source": [
    "nums = [1,2,3,4,5,6,7]\n",
    "k = 3\n",
    "\n",
    "rotate_1(nums, k)"
   ]
  },
  {
   "cell_type": "code",
   "execution_count": 3,
   "metadata": {},
   "outputs": [],
   "source": [
    "# Using extra space.. O(n)T / O(n)S\n",
    "\n",
    "def rotate_2(nums, k):\n",
    "    length = len(nums)\n",
    "    newNums = [0] * length\n",
    "\n",
    "    for i in range(length):\n",
    "        newNums[(i+k)%length] = nums[i]\n",
    "\n",
    "    return newNums"
   ]
  },
  {
   "cell_type": "code",
   "execution_count": 4,
   "metadata": {},
   "outputs": [
    {
     "data": {
      "text/plain": [
       "[5, 1, 2, 3, 4]"
      ]
     },
     "execution_count": 4,
     "metadata": {},
     "output_type": "execute_result"
    }
   ],
   "source": [
    "nums = [1,2,3,4,5]\n",
    "k = 6\n",
    "\n",
    "rotate_2(nums, k)"
   ]
  },
  {
   "cell_type": "code",
   "execution_count": 5,
   "metadata": {},
   "outputs": [],
   "source": [
    "# Optimal sol... O(n)T / O(1)S\n",
    "\n",
    "def rotate_3(nums, k):\n",
    "    length = len(nums)\n",
    "    k = k % length\n",
    "    \n",
    "    start = count = 0\n",
    "    \n",
    "    while count < length:\n",
    "        currentIdx, prev = start, nums[start]\n",
    "        \n",
    "        while True:\n",
    "            nextIdx = (currentIdx + k) % length\n",
    "            prev, nums[nextIdx] = nums[nextIdx], prev\n",
    "            currentIdx = nextIdx\n",
    "            count += 1\n",
    "            \n",
    "            print(nums) # for better understanding\n",
    "            \n",
    "            if currentIdx == start:\n",
    "                break\n",
    "            \n",
    "        start += 1\n",
    "        \n",
    "    return nums"
   ]
  },
  {
   "cell_type": "code",
   "execution_count": 6,
   "metadata": {},
   "outputs": [
    {
     "name": "stdout",
     "output_type": "stream",
     "text": [
      "[1, 2, 3, 1, 5, 6, 7]\n",
      "[1, 2, 3, 1, 5, 6, 4]\n",
      "[1, 2, 7, 1, 5, 6, 4]\n",
      "[1, 2, 7, 1, 5, 3, 4]\n",
      "[1, 6, 7, 1, 5, 3, 4]\n",
      "[1, 6, 7, 1, 2, 3, 4]\n",
      "[5, 6, 7, 1, 2, 3, 4]\n"
     ]
    },
    {
     "data": {
      "text/plain": [
       "[5, 6, 7, 1, 2, 3, 4]"
      ]
     },
     "execution_count": 6,
     "metadata": {},
     "output_type": "execute_result"
    }
   ],
   "source": [
    "nums = [1,2,3,4,5,6,7]\n",
    "k = 3\n",
    "\n",
    "rotate_3(nums, k)"
   ]
  },
  {
   "cell_type": "code",
   "execution_count": null,
   "metadata": {},
   "outputs": [],
   "source": []
  }
 ],
 "metadata": {
  "kernelspec": {
   "display_name": "Python 3",
   "language": "python",
   "name": "python3"
  },
  "language_info": {
   "codemirror_mode": {
    "name": "ipython",
    "version": 3
   },
   "file_extension": ".py",
   "mimetype": "text/x-python",
   "name": "python",
   "nbconvert_exporter": "python",
   "pygments_lexer": "ipython3",
   "version": "3.8.3"
  }
 },
 "nbformat": 4,
 "nbformat_minor": 4
}
