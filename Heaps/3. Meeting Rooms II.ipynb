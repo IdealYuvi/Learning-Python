{
 "cells": [
  {
   "cell_type": "markdown",
   "metadata": {},
   "source": [
    "# Given an array of meeting time intervals consisting of start and end times [[s1, e1], [s2, e2]....] (si < ei), find the minimum number of conference rooms required."
   ]
  },
  {
   "cell_type": "code",
   "execution_count": null,
   "metadata": {},
   "outputs": [],
   "source": [
    "\"\"\"\n",
    "Input: [[0,30],[5,10],[15,20]]\n",
    "Output: 2\n",
    "\n",
    "Input: [[7,10],[2,4]]\n",
    "Output: 1\n",
    "\"\"\""
   ]
  },
  {
   "cell_type": "code",
   "execution_count": 1,
   "metadata": {},
   "outputs": [],
   "source": [
    "import heapq as hq\n",
    "def minMeetingRooms(intervals):\n",
    "    intervals.sort(key = lambda x: x[0])\n",
    "    \n",
    "    heap = []\n",
    "    hq.heappush(heap, intervals[0][1])\n",
    "    \n",
    "    for i in range(1, len(intervals)):\n",
    "        current = intervals[i]\n",
    "        earliest = hq.heappop(heap)\n",
    "        \n",
    "        if current[0] >= earliest:\n",
    "            earliest = current[1]\n",
    "        else:\n",
    "            hq.heappush(heap, current[1])\n",
    "            \n",
    "        hq.heappush(heap, earliest)\n",
    "    \n",
    "    return len(heap)"
   ]
  },
  {
   "cell_type": "code",
   "execution_count": 2,
   "metadata": {},
   "outputs": [
    {
     "data": {
      "text/plain": [
       "2"
      ]
     },
     "execution_count": 2,
     "metadata": {},
     "output_type": "execute_result"
    }
   ],
   "source": [
    "intervals = [[0,30],[5,10],[15,20]]\n",
    "\n",
    "minMeetingRooms(intervals)"
   ]
  },
  {
   "cell_type": "code",
   "execution_count": 3,
   "metadata": {},
   "outputs": [
    {
     "data": {
      "text/plain": [
       "1"
      ]
     },
     "execution_count": 3,
     "metadata": {},
     "output_type": "execute_result"
    }
   ],
   "source": [
    "intervals = [[7,10],[2,4]]\n",
    "\n",
    "minMeetingRooms(intervals)"
   ]
  },
  {
   "cell_type": "code",
   "execution_count": null,
   "metadata": {},
   "outputs": [],
   "source": []
  }
 ],
 "metadata": {
  "kernelspec": {
   "display_name": "Python 3",
   "language": "python",
   "name": "python3"
  },
  "language_info": {
   "codemirror_mode": {
    "name": "ipython",
    "version": 3
   },
   "file_extension": ".py",
   "mimetype": "text/x-python",
   "name": "python",
   "nbconvert_exporter": "python",
   "pygments_lexer": "ipython3",
   "version": "3.8.3"
  }
 },
 "nbformat": 4,
 "nbformat_minor": 4
}
