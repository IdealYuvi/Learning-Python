{
 "cells": [
  {
   "cell_type": "markdown",
   "metadata": {},
   "source": [
    "# Given a string, sort it in decreasing order based on the frequency of characters."
   ]
  },
  {
   "cell_type": "code",
   "execution_count": null,
   "metadata": {},
   "outputs": [],
   "source": [
    "\"\"\"\n",
    "Example 1:\n",
    "Input: \"tree\"\n",
    "Output: \"eert\"\n",
    "Explanation: 'e' appears twice while 'r' and 't' both appear once. \n",
    "             So 'e' must appear before both 'r' and 't'. Therefore \"eetr\" is also a valid answer.\n",
    "________________________________________________________________________________________________\n",
    "\n",
    "Example 2:\n",
    "Input: \"cccaaa\"\n",
    "Output: \"cccaaa\"\n",
    "Explanation: Both 'c' and 'a' appear three times, so \"aaaccc\" is also a valid answer.\n",
    "             Note that \"cacaca\" is incorrect, as the same characters must be together.\n",
    "________________________________________________________________________________________________\n",
    "\n",
    "Example 3:\n",
    "Input: \"Aabb\"\n",
    "Output: \"bbAa\"\n",
    "Explanation: \"bbaA\" is also a valid answer, but \"Aabb\" is incorrect.\n",
    "             Note that 'A' and 'a' are treated as two different characters.\n",
    "\n",
    "\"\"\""
   ]
  },
  {
   "cell_type": "code",
   "execution_count": 1,
   "metadata": {},
   "outputs": [],
   "source": [
    "from collections import Counter\n",
    "import heapq as hq\n",
    "\n",
    "def frequencySort(s):\n",
    "    tab = Counter(s)\n",
    "\n",
    "    heap = [(-val, let) for let, val in tab.items()]\n",
    "\n",
    "    hq.heapify(heap)\n",
    "\n",
    "    res = []\n",
    "\n",
    "    while heap:\n",
    "        val, let = hq.heappop(heap)\n",
    "\n",
    "        for i in range(val*(-1)):\n",
    "            res.append(let)\n",
    "\n",
    "    return ''.join(res)"
   ]
  },
  {
   "cell_type": "code",
   "execution_count": 2,
   "metadata": {},
   "outputs": [
    {
     "data": {
      "text/plain": [
       "'eert'"
      ]
     },
     "execution_count": 2,
     "metadata": {},
     "output_type": "execute_result"
    }
   ],
   "source": [
    "s = 'tree'\n",
    "\n",
    "frequencySort(s)"
   ]
  },
  {
   "cell_type": "code",
   "execution_count": 3,
   "metadata": {},
   "outputs": [
    {
     "data": {
      "text/plain": [
       "'aaaccc'"
      ]
     },
     "execution_count": 3,
     "metadata": {},
     "output_type": "execute_result"
    }
   ],
   "source": [
    "s = 'cccaaa'\n",
    "\n",
    "frequencySort(s)"
   ]
  },
  {
   "cell_type": "code",
   "execution_count": 4,
   "metadata": {},
   "outputs": [
    {
     "data": {
      "text/plain": [
       "'bbAa'"
      ]
     },
     "execution_count": 4,
     "metadata": {},
     "output_type": "execute_result"
    }
   ],
   "source": [
    "s = 'Aabb'\n",
    "\n",
    "frequencySort(s)"
   ]
  },
  {
   "cell_type": "code",
   "execution_count": null,
   "metadata": {},
   "outputs": [],
   "source": []
  }
 ],
 "metadata": {
  "kernelspec": {
   "display_name": "Python 3",
   "language": "python",
   "name": "python3"
  },
  "language_info": {
   "codemirror_mode": {
    "name": "ipython",
    "version": 3
   },
   "file_extension": ".py",
   "mimetype": "text/x-python",
   "name": "python",
   "nbconvert_exporter": "python",
   "pygments_lexer": "ipython3",
   "version": "3.8.3"
  }
 },
 "nbformat": 4,
 "nbformat_minor": 4
}
