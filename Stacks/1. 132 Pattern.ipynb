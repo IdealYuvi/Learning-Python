{
 "cells": [
  {
   "cell_type": "markdown",
   "metadata": {},
   "source": [
    "# Given an array of n integers nums, a 132 pattern is a subsequence of three integers nums[i], nums[j] and nums[k] such that i < j < k and nums[i] < nums[k] < nums[j].\n",
    "\n",
    "# Return true if there is a 132 pattern in nums, otherwise, return false.\n",
    "\n",
    "# Follow up: The O(n^2) is trivial, could you come up with the O(n logn) or the O(n) solution?"
   ]
  },
  {
   "cell_type": "code",
   "execution_count": null,
   "metadata": {},
   "outputs": [],
   "source": [
    "\"\"\"\n",
    "Sample Input: nums = [1,2,3,4]\n",
    "Sample Output: false\n",
    "Explanation: There is no 132 pattern in the sequence.\n",
    "\n",
    "Sample Input: nums = [-1,3,2,0]\n",
    "Sample Output: true\n",
    "Explanation: There are three 132 patterns in the sequence: [-1, 3, 2], [-1, 3, 0] and [-1, 2, 0].\n",
    "\"\"\""
   ]
  },
  {
   "cell_type": "code",
   "execution_count": 1,
   "metadata": {},
   "outputs": [],
   "source": [
    "# O(n)T / O(n)S \n",
    "\n",
    "def patternCheck(array):\n",
    "    mins = [0] * len(array)\n",
    "    mins[0] = array[0]\n",
    "    \n",
    "    for i in range(1, len(array)):\n",
    "        mins[i] = min(mins[i - 1], array[i])\n",
    "        \n",
    "    stack = []\n",
    "    \n",
    "    for j in reversed(range(len(array))):\n",
    "        if array[j] > mins[j]:\n",
    "            while stack and stack[-1] <= mins[j]:\n",
    "                stack.pop()\n",
    "                \n",
    "            if stack and mins[j] < stack[-1] < array[j]:\n",
    "                return True\n",
    "            \n",
    "            stack.append(array[j])\n",
    "            \n",
    "    return False"
   ]
  },
  {
   "cell_type": "code",
   "execution_count": 2,
   "metadata": {},
   "outputs": [
    {
     "data": {
      "text/plain": [
       "True"
      ]
     },
     "execution_count": 2,
     "metadata": {},
     "output_type": "execute_result"
    }
   ],
   "source": [
    "array = [-1,3,-2,0]\n",
    "\n",
    "patternCheck(array)"
   ]
  },
  {
   "cell_type": "code",
   "execution_count": 3,
   "metadata": {},
   "outputs": [
    {
     "data": {
      "text/plain": [
       "False"
      ]
     },
     "execution_count": 3,
     "metadata": {},
     "output_type": "execute_result"
    }
   ],
   "source": [
    "array = [1,2,3,4]\n",
    "\n",
    "patternCheck(array)"
   ]
  },
  {
   "cell_type": "code",
   "execution_count": 4,
   "metadata": {},
   "outputs": [
    {
     "data": {
      "text/plain": [
       "True"
      ]
     },
     "execution_count": 4,
     "metadata": {},
     "output_type": "execute_result"
    }
   ],
   "source": [
    "array = [3,1,4,2]\n",
    "\n",
    "patternCheck(array)"
   ]
  },
  {
   "cell_type": "code",
   "execution_count": 5,
   "metadata": {},
   "outputs": [
    {
     "data": {
      "text/plain": [
       "True"
      ]
     },
     "execution_count": 5,
     "metadata": {},
     "output_type": "execute_result"
    }
   ],
   "source": [
    "array = [-1,3,2,0]\n",
    "\n",
    "patternCheck(array)"
   ]
  },
  {
   "cell_type": "code",
   "execution_count": null,
   "metadata": {},
   "outputs": [],
   "source": []
  }
 ],
 "metadata": {
  "kernelspec": {
   "display_name": "Python 3",
   "language": "python",
   "name": "python3"
  },
  "language_info": {
   "codemirror_mode": {
    "name": "ipython",
    "version": 3
   },
   "file_extension": ".py",
   "mimetype": "text/x-python",
   "name": "python",
   "nbconvert_exporter": "python",
   "pygments_lexer": "ipython3",
   "version": "3.8.3"
  }
 },
 "nbformat": 4,
 "nbformat_minor": 4
}
