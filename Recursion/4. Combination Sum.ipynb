{
 "cells": [
  {
   "cell_type": "markdown",
   "metadata": {},
   "source": [
    "# Given an array of distinct integers candidates and a target integer target, return a list of all unique combinations of candidates where the chosen numbers sum to target. You may return the combinations in any order.\n",
    "\n",
    "# The same number may be chosen from candidates an unlimited number of times. Two combinations are unique if the frequency of at least one of the chosen numbers is different.\n",
    "\n",
    "# It is guaranteed that the number of unique combinations that sum up to target is less than 150 combinations for the given input."
   ]
  },
  {
   "cell_type": "code",
   "execution_count": null,
   "metadata": {},
   "outputs": [],
   "source": [
    "\"\"\"\n",
    "Example 1:\n",
    "Input: candidates = [2,3,6,7], target = 7\n",
    "Output: [[2,2,3],[7]]\n",
    "Explanation: 2 and 3 are candidates, and 2 + 2 + 3 = 7. Note that 2 can be used multiple times.\n",
    "             7 is a candidate, and 7 = 7. These are the only two combinations.\n",
    "_____________________________________________________________________________________________\n",
    "Example 2:\n",
    "Input: candidates = [2,3,5], target = 8\n",
    "Output: [[2,2,2,2],[2,3,3],[3,5]]\n",
    "_____________________________________________________________________________________________\n",
    "\n",
    "Example 3:\n",
    "Input: candidates = [2], target = 1\n",
    "Output: []\n",
    "_____________________________________________________________________________________________\n",
    "\n",
    "Example 4:\n",
    "Input: candidates = [1], target = 1\n",
    "Output: [[1]]\n",
    "_____________________________________________________________________________________________\n",
    "\n",
    "Example 5:\n",
    "Input: candidates = [1], target = 2\n",
    "Output: [[1,1]]\n",
    "\n",
    "\"\"\""
   ]
  },
  {
   "cell_type": "code",
   "execution_count": 1,
   "metadata": {},
   "outputs": [],
   "source": [
    "def combinationSum(candidates, target):\n",
    "    candidates = sorted(candidates)\n",
    "    res = []\n",
    "    \n",
    "    cal(candidates, target, 0, res, [])\n",
    "    \n",
    "    return res\n",
    "\n",
    "\n",
    "def cal(candidates, target, index, res, path):\n",
    "    if target < 0:\n",
    "        return \n",
    "    \n",
    "    if target == 0:\n",
    "        res.append(path)\n",
    "        return\n",
    "    \n",
    "    for i in range(index, len(candidates)):\n",
    "        if candidates[i] > target:\n",
    "            return\n",
    "        \n",
    "        cal(candidates, target-candidates[i], i, res, path+[candidates[i]])"
   ]
  },
  {
   "cell_type": "code",
   "execution_count": 2,
   "metadata": {},
   "outputs": [
    {
     "data": {
      "text/plain": [
       "[[2, 2, 3], [7]]"
      ]
     },
     "execution_count": 2,
     "metadata": {},
     "output_type": "execute_result"
    }
   ],
   "source": [
    "candidates = [2,3,6,7]\n",
    "target = 7\n",
    "\n",
    "combinationSum(candidates, target)"
   ]
  },
  {
   "cell_type": "code",
   "execution_count": 3,
   "metadata": {},
   "outputs": [
    {
     "data": {
      "text/plain": [
       "[[2, 2, 2, 2], [2, 3, 3], [3, 5]]"
      ]
     },
     "execution_count": 3,
     "metadata": {},
     "output_type": "execute_result"
    }
   ],
   "source": [
    "candidates = [2,3,5]\n",
    "target = 8\n",
    "\n",
    "combinationSum(candidates, target)"
   ]
  },
  {
   "cell_type": "code",
   "execution_count": 4,
   "metadata": {},
   "outputs": [
    {
     "data": {
      "text/plain": [
       "[]"
      ]
     },
     "execution_count": 4,
     "metadata": {},
     "output_type": "execute_result"
    }
   ],
   "source": [
    "candidates = [2]\n",
    "target = 1\n",
    "\n",
    "combinationSum(candidates, target)"
   ]
  },
  {
   "cell_type": "code",
   "execution_count": 5,
   "metadata": {},
   "outputs": [
    {
     "data": {
      "text/plain": [
       "[[1]]"
      ]
     },
     "execution_count": 5,
     "metadata": {},
     "output_type": "execute_result"
    }
   ],
   "source": [
    "candidates = [1]\n",
    "target = 1\n",
    "\n",
    "combinationSum(candidates, target)"
   ]
  },
  {
   "cell_type": "code",
   "execution_count": 6,
   "metadata": {},
   "outputs": [
    {
     "data": {
      "text/plain": [
       "[[1, 1]]"
      ]
     },
     "execution_count": 6,
     "metadata": {},
     "output_type": "execute_result"
    }
   ],
   "source": [
    "candidates = [1]\n",
    "target = 2\n",
    "\n",
    "combinationSum(candidates, target)"
   ]
  },
  {
   "cell_type": "code",
   "execution_count": null,
   "metadata": {},
   "outputs": [],
   "source": []
  }
 ],
 "metadata": {
  "kernelspec": {
   "display_name": "Python 3",
   "language": "python",
   "name": "python3"
  },
  "language_info": {
   "codemirror_mode": {
    "name": "ipython",
    "version": 3
   },
   "file_extension": ".py",
   "mimetype": "text/x-python",
   "name": "python",
   "nbconvert_exporter": "python",
   "pygments_lexer": "ipython3",
   "version": "3.8.3"
  }
 },
 "nbformat": 4,
 "nbformat_minor": 4
}
