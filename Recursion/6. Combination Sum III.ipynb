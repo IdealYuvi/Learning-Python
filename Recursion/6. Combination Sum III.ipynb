{
 "cells": [
  {
   "cell_type": "markdown",
   "metadata": {},
   "source": [
    "# Find all valid combinations of k numbers that sum up to n such that the following conditions are true: Only numbers 1 through 9 are used. Each number is used at most once.\n",
    "\n",
    "# Return a list of all possible valid combinations. The list must not contain the same combination twice, and the combinations may be returned in any order."
   ]
  },
  {
   "cell_type": "code",
   "execution_count": null,
   "metadata": {},
   "outputs": [],
   "source": [
    "\"\"\"\n",
    "Example 1:\n",
    "Input: k = 3, n = 7\n",
    "Output: [[1,2,4]]\n",
    "Explanation: 1 + 2 + 4 = 7\n",
    "             There are no other valid combinations.\n",
    "______________________________________________________________________________________________________\n",
    "\n",
    "Example 2:\n",
    "Input: k = 3, n = 9\n",
    "Output: [[1,2,6],[1,3,5],[2,3,4]]\n",
    "Explanation:\n",
    "            1 + 2 + 6 = 9\n",
    "            1 + 3 + 5 = 9\n",
    "            2 + 3 + 4 = 9\n",
    "            There are no other valid combinations.\n",
    "______________________________________________________________________________________________________\n",
    "\n",
    "Example 3:\n",
    "Input: k = 4, n = 1\n",
    "Output: []\n",
    "Explanation: There are no valid combinations. \n",
    "             [1,2,1] is not valid because 1 is used twice.\n",
    "______________________________________________________________________________________________________\n",
    "\n",
    "Example 4:\n",
    "Input: k = 3, n = 2\n",
    "Output: []\n",
    "Explanation: There are no valid combinations.\n",
    "______________________________________________________________________________________________________\n",
    "\n",
    "Example 5:\n",
    "Input: k = 9, n = 45\n",
    "Output: [[1,2,3,4,5,6,7,8,9]]\n",
    "Explanation: 1 + 2 + 3 + 4 + 5 + 6 + 7 + 8 + 9 = 45\n",
    "             There are no other valid combinations.\n",
    "\n",
    "\"\"\""
   ]
  },
  {
   "cell_type": "code",
   "execution_count": 1,
   "metadata": {},
   "outputs": [],
   "source": [
    "def combinationSum3(k, n):\n",
    "    res = []\n",
    "\n",
    "    backTrack(1, k, n, [], res)\n",
    "\n",
    "    return res\n",
    "\n",
    "def backTrack(i, k, target, path, res):       \n",
    "    if k < 0:\n",
    "        return\n",
    "\n",
    "    if k == 0 and target == 0:\n",
    "        # Append a copy of path to res or you will regret later. List is reference type.\n",
    "        res.append(list(path)) \n",
    "        return\n",
    "\n",
    "    for j in range(i, 10):\n",
    "        if target - j < 0:\n",
    "            break\n",
    "\n",
    "        path.append(j)\n",
    "        backTrack(j + 1, k - 1, target - j, path, res)\n",
    "        path.pop()"
   ]
  },
  {
   "cell_type": "code",
   "execution_count": 2,
   "metadata": {},
   "outputs": [
    {
     "data": {
      "text/plain": [
       "[[1, 2, 4]]"
      ]
     },
     "execution_count": 2,
     "metadata": {},
     "output_type": "execute_result"
    }
   ],
   "source": [
    "k = 3\n",
    "n = 7\n",
    "\n",
    "combinationSum3(k, n)"
   ]
  },
  {
   "cell_type": "code",
   "execution_count": 3,
   "metadata": {},
   "outputs": [
    {
     "data": {
      "text/plain": [
       "[[1, 2, 6], [1, 3, 5], [2, 3, 4]]"
      ]
     },
     "execution_count": 3,
     "metadata": {},
     "output_type": "execute_result"
    }
   ],
   "source": [
    "k = 3\n",
    "n = 9\n",
    "\n",
    "combinationSum3(k, n)"
   ]
  },
  {
   "cell_type": "code",
   "execution_count": 4,
   "metadata": {},
   "outputs": [
    {
     "data": {
      "text/plain": [
       "[]"
      ]
     },
     "execution_count": 4,
     "metadata": {},
     "output_type": "execute_result"
    }
   ],
   "source": [
    "k = 4\n",
    "n = 1\n",
    "\n",
    "combinationSum3(k, n)"
   ]
  },
  {
   "cell_type": "code",
   "execution_count": 5,
   "metadata": {},
   "outputs": [
    {
     "data": {
      "text/plain": [
       "[]"
      ]
     },
     "execution_count": 5,
     "metadata": {},
     "output_type": "execute_result"
    }
   ],
   "source": [
    "k = 3\n",
    "n = 2\n",
    "\n",
    "combinationSum3(k, n)"
   ]
  },
  {
   "cell_type": "code",
   "execution_count": 6,
   "metadata": {},
   "outputs": [
    {
     "data": {
      "text/plain": [
       "[[1, 2, 3, 4, 5, 6, 7, 8, 9]]"
      ]
     },
     "execution_count": 6,
     "metadata": {},
     "output_type": "execute_result"
    }
   ],
   "source": [
    "k = 9\n",
    "n = 45\n",
    "\n",
    "combinationSum3(k, n)"
   ]
  },
  {
   "cell_type": "code",
   "execution_count": null,
   "metadata": {},
   "outputs": [],
   "source": []
  }
 ],
 "metadata": {
  "kernelspec": {
   "display_name": "Python 3",
   "language": "python",
   "name": "python3"
  },
  "language_info": {
   "codemirror_mode": {
    "name": "ipython",
    "version": 3
   },
   "file_extension": ".py",
   "mimetype": "text/x-python",
   "name": "python",
   "nbconvert_exporter": "python",
   "pygments_lexer": "ipython3",
   "version": "3.8.3"
  }
 },
 "nbformat": 4,
 "nbformat_minor": 4
}
