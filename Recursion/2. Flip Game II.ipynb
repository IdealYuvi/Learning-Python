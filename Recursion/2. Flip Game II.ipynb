{
 "cells": [
  {
   "cell_type": "markdown",
   "metadata": {},
   "source": [
    "# You are playing the following flip game with your friend: Given a string that contains only these two characters '+' and '-', you and your friend take turns to flip two consecutive '++' into '--'. The game ends when a person can no longer make a move and therefore the other person will be the winner.\n",
    "\n",
    "# Write a function to determine if the starting player can guarantee a win."
   ]
  },
  {
   "cell_type": "code",
   "execution_count": null,
   "metadata": {},
   "outputs": [],
   "source": [
    "\"\"\"\n",
    "Input: '++++'\n",
    "Output: True\n",
    "Explanation: The starting player can guarantee a win by flipping the middle '++' to become '+--+'.\n",
    "\"\"\""
   ]
  },
  {
   "cell_type": "code",
   "execution_count": 1,
   "metadata": {},
   "outputs": [],
   "source": [
    "# Recursion with memoization is important, otherwise the program will take exponential time for longer inputs.\n",
    "\n",
    "def flipGame(s):\n",
    "    mem = {}\n",
    "    return helper(s, mem)\n",
    "    \n",
    "def helper(s, mem):\n",
    "    if s in mem:\n",
    "        return mem\n",
    "    \n",
    "    if not s or len(s) < 2:\n",
    "        return False\n",
    "    \n",
    "    for i in range(len(s) - 1):\n",
    "        if s[i] == '+' and s[i + 1] == '+':\n",
    "            newS = s[0: i] + '--' + s[i + 2:]\n",
    "            \n",
    "            print(newS) # for understanding\n",
    "            \n",
    "            mem[newS] = helper(newS, mem)\n",
    "            \n",
    "            if not mem[newS]:\n",
    "                return True\n",
    "            \n",
    "            \n",
    "    return False"
   ]
  },
  {
   "cell_type": "code",
   "execution_count": 2,
   "metadata": {},
   "outputs": [
    {
     "name": "stdout",
     "output_type": "stream",
     "text": [
      "--++\n",
      "----\n",
      "+--+\n"
     ]
    },
    {
     "data": {
      "text/plain": [
       "True"
      ]
     },
     "execution_count": 2,
     "metadata": {},
     "output_type": "execute_result"
    }
   ],
   "source": [
    "s = \"++++\"\n",
    "\n",
    "flipGame(s)"
   ]
  },
  {
   "cell_type": "code",
   "execution_count": null,
   "metadata": {},
   "outputs": [],
   "source": []
  }
 ],
 "metadata": {
  "kernelspec": {
   "display_name": "Python 3",
   "language": "python",
   "name": "python3"
  },
  "language_info": {
   "codemirror_mode": {
    "name": "ipython",
    "version": 3
   },
   "file_extension": ".py",
   "mimetype": "text/x-python",
   "name": "python",
   "nbconvert_exporter": "python",
   "pygments_lexer": "ipython3",
   "version": "3.8.3"
  }
 },
 "nbformat": 4,
 "nbformat_minor": 4
}
