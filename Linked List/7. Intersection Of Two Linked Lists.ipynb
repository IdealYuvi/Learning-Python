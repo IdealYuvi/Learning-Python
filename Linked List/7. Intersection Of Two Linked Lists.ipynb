{
 "cells": [
  {
   "cell_type": "markdown",
   "metadata": {},
   "source": [
    "# Write a program to find the node at which the intersection of two singly linked lists begins. If the two linked lists have no intersection at all, return null."
   ]
  },
  {
   "cell_type": "code",
   "execution_count": null,
   "metadata": {},
   "outputs": [],
   "source": [
    "\"\"\"\n",
    "See Leetcode No.160 for graphical description.\n",
    "\"\"\""
   ]
  },
  {
   "cell_type": "code",
   "execution_count": null,
   "metadata": {},
   "outputs": [],
   "source": [
    "# O(m + n)T / O(1)S - m is length of headA and n is length of headB\n",
    "\n",
    "def getIntersectionNode(headA, headB):\n",
    "    lenA = getLength(headA)\n",
    "    lenB = getLength(headB)\n",
    "\n",
    "    if lenB > lenA:\n",
    "        headA, headB = headB, headA\n",
    "        lenA, lenB = lenB, lenA\n",
    "\n",
    "    diff = lenA - lenB\n",
    "\n",
    "    while diff:\n",
    "        headA = headA.next\n",
    "        diff -= 1\n",
    "\n",
    "    while headA and headB and headA != headB:\n",
    "        headA = headA.next\n",
    "        headB = headB.next\n",
    "\n",
    "    return headA\n",
    "\n",
    "def getLength(node):\n",
    "    length = 0\n",
    "\n",
    "    while node:\n",
    "        node = node.next\n",
    "        length += 1\n",
    "\n",
    "    return length"
   ]
  },
  {
   "cell_type": "code",
   "execution_count": null,
   "metadata": {},
   "outputs": [],
   "source": [
    "# O(m + n)T / O(m or n)S\n",
    "\n",
    "def usingSets(headA, headB):\n",
    "    visited = set()\n",
    "    \n",
    "    while headA:\n",
    "        visited.add(headA)\n",
    "        headA = headA.next\n",
    "\n",
    "    while headB:\n",
    "        if headB in visited: return headB\n",
    "        headB = headB.next\n",
    "        \n",
    "    return None"
   ]
  },
  {
   "cell_type": "code",
   "execution_count": null,
   "metadata": {},
   "outputs": [],
   "source": []
  }
 ],
 "metadata": {
  "kernelspec": {
   "display_name": "Python 3",
   "language": "python",
   "name": "python3"
  },
  "language_info": {
   "codemirror_mode": {
    "name": "ipython",
    "version": 3
   },
   "file_extension": ".py",
   "mimetype": "text/x-python",
   "name": "python",
   "nbconvert_exporter": "python",
   "pygments_lexer": "ipython3",
   "version": "3.8.3"
  }
 },
 "nbformat": 4,
 "nbformat_minor": 4
}
