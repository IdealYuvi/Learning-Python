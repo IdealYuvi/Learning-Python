{
 "cells": [
  {
   "cell_type": "markdown",
   "metadata": {},
   "source": [
    "# A linked list is given such that each node contains an additional random pointer which could point to any node in the list or null. Return a deep copy of the list.\n",
    "\n",
    "# The Linked List is represented in the input/output as a list of n nodes. Each node is represented as a pair of [val, random_index] where: val: an integer representing Node.val, random_index: the index of the node (range from 0 to n-1) where random pointer points to, or null if it does not point to any node.\n"
   ]
  },
  {
   "cell_type": "code",
   "execution_count": null,
   "metadata": {},
   "outputs": [],
   "source": [
    "\"\"\"\n",
    "Input: head = [[7,null],[13,0],[11,4],[10,2],[1,0]]\n",
    "Output: [[7,null],[13,0],[11,4],[10,2],[1,0]]\n",
    "\"\"\""
   ]
  },
  {
   "cell_type": "code",
   "execution_count": 1,
   "metadata": {},
   "outputs": [],
   "source": [
    "class ListNode:\n",
    "    def __init__(self, x, next = None, random = None):\n",
    "        self.val = int(x)\n",
    "        self.next = next\n",
    "        self.random = random\n",
    "        \n",
    "a = ListNode(7)\n",
    "b = ListNode(13)\n",
    "c = ListNode(11)\n",
    "d = ListNode(10)\n",
    "e = ListNode(1)\n",
    "\n",
    "a.next = b\n",
    "b.next = c\n",
    "c.next = d\n",
    "d.next = e\n",
    "\n",
    "a.random = None\n",
    "b.random = a\n",
    "c.random = e\n",
    "d.random = c\n",
    "e.random = a"
   ]
  },
  {
   "cell_type": "code",
   "execution_count": 2,
   "metadata": {},
   "outputs": [
    {
     "name": "stdout",
     "output_type": "stream",
     "text": [
      "val is 7, next is 13, random is None\n",
      "val is 13, next is 11, random is 7\n",
      "val is 11, next is 10, random is 1\n",
      "val is 10, next is 1, random is 11\n",
      "val is 1, next is None, random is 7\n"
     ]
    }
   ],
   "source": [
    "node = a\n",
    "\n",
    "while node is not None:\n",
    "    print(f'val is {node.val}, next is {node.next.val if node.next else None}, random is {node.random.val if node.random else None}')\n",
    "    node = node.next"
   ]
  },
  {
   "cell_type": "code",
   "execution_count": 3,
   "metadata": {},
   "outputs": [],
   "source": [
    "def copyRandomList(head):\n",
    "    if head is None:\n",
    "        return head\n",
    "\n",
    "    newHead = newListWithClones(head)\n",
    "\n",
    "    setRandomPointer(newHead)\n",
    "\n",
    "    cloneHead = splitLists(newHead)\n",
    "\n",
    "    return cloneHead\n",
    "\n",
    "def newListWithClones(head):\n",
    "    dummy = cur = head\n",
    "\n",
    "    while cur:\n",
    "        temp = cur.next\n",
    "\n",
    "        cur.next = ListNode(cur.val)\n",
    "        cur.next.next = temp\n",
    "\n",
    "        cur = cur.next.next\n",
    "\n",
    "    return dummy\n",
    "\n",
    "def setRandomPointer(head):\n",
    "    cur = head\n",
    "\n",
    "    while cur:\n",
    "        cur.next.random = cur.random.next if cur.random is not None else None\n",
    "        cur = cur.next.next\n",
    "\n",
    "def splitLists(head):\n",
    "    dummy = cur = head.next\n",
    "\n",
    "    while cur:\n",
    "        cur.next = cur.next.next if cur.next is not None else None\n",
    "        cur = cur.next\n",
    "\n",
    "    return dummy"
   ]
  },
  {
   "cell_type": "code",
   "execution_count": 4,
   "metadata": {},
   "outputs": [
    {
     "name": "stdout",
     "output_type": "stream",
     "text": [
      "val is 7, next is 13, random is None\n",
      "val is 13, next is 11, random is 7\n",
      "val is 11, next is 10, random is 1\n",
      "val is 10, next is 1, random is 11\n",
      "val is 1, next is None, random is 7\n"
     ]
    }
   ],
   "source": [
    "newNode = copyRandomList(a)\n",
    "\n",
    "while newNode is not None:\n",
    "    print(f'val is {newNode.val}, next is {newNode.next.val if newNode.next else None}, random is {newNode.random.val if newNode.random else None}')\n",
    "    newNode = newNode.next"
   ]
  },
  {
   "cell_type": "code",
   "execution_count": null,
   "metadata": {},
   "outputs": [],
   "source": []
  }
 ],
 "metadata": {
  "kernelspec": {
   "display_name": "Python 3",
   "language": "python",
   "name": "python3"
  },
  "language_info": {
   "codemirror_mode": {
    "name": "ipython",
    "version": 3
   },
   "file_extension": ".py",
   "mimetype": "text/x-python",
   "name": "python",
   "nbconvert_exporter": "python",
   "pygments_lexer": "ipython3",
   "version": "3.8.3"
  }
 },
 "nbformat": 4,
 "nbformat_minor": 4
}
