{
 "cells": [
  {
   "cell_type": "markdown",
   "metadata": {},
   "source": [
    "# Given a singly linked list, group all odd nodes together followed by the even nodes. Please note here we are talking about the node number and not the value in the nodes.\n",
    "\n",
    "# You should try to do it in place. The program should run in O(1) space complexity and O(nodes) time complexity."
   ]
  },
  {
   "cell_type": "code",
   "execution_count": null,
   "metadata": {},
   "outputs": [],
   "source": [
    "\"\"\"\n",
    "Sample Input: 1->2->3->4->5->NULL\n",
    "Sample Output: 1->3->5->2->4->NULL\n",
    "\n",
    "Sample Input: 2->1->3->5->6->4->7->NULL\n",
    "Sample Output: 2->3->6->7->1->5->4->NULL\n",
    "\"\"\""
   ]
  },
  {
   "cell_type": "code",
   "execution_count": null,
   "metadata": {},
   "outputs": [],
   "source": [
    "# O(n)T / O(1)S\n",
    "\n",
    "def oddEvenList(self, head: ListNode) -> ListNode:\n",
    "        if not head or not head.next:\n",
    "            return head\n",
    "        \n",
    "        odd, even = head, head.next\n",
    "        evenHead = even\n",
    "        \n",
    "        node = even.next\n",
    "        isOdd = True\n",
    "        \n",
    "        while node:\n",
    "            if isOdd:\n",
    "                odd.next = node\n",
    "                odd = odd.next\n",
    "                node = node.next\n",
    "                isOdd = False\n",
    "            else:\n",
    "                even.next = node\n",
    "                even = even.next\n",
    "                node = node.next\n",
    "                isOdd = True\n",
    "        \n",
    "        even.next = None # this step is important to eliminate any loops in the linked list\n",
    "        odd.next = evenHead\n",
    "        \n",
    "        return head"
   ]
  }
 ],
 "metadata": {
  "kernelspec": {
   "display_name": "Python 3",
   "language": "python",
   "name": "python3"
  },
  "language_info": {
   "codemirror_mode": {
    "name": "ipython",
    "version": 3
   },
   "file_extension": ".py",
   "mimetype": "text/x-python",
   "name": "python",
   "nbconvert_exporter": "python",
   "pygments_lexer": "ipython3",
   "version": "3.8.3"
  }
 },
 "nbformat": 4,
 "nbformat_minor": 4
}
