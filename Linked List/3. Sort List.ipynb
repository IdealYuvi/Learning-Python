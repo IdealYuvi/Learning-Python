{
 "cells": [
  {
   "cell_type": "markdown",
   "metadata": {},
   "source": [
    "# Given the head of a linked list, return the list after sorting it in ascending order.\n",
    "\n",
    "# Follow up: Can you sort the linked list in O(n logn) time and O(1) memory (i.e. constant space)?"
   ]
  },
  {
   "cell_type": "code",
   "execution_count": null,
   "metadata": {},
   "outputs": [],
   "source": [
    "\"\"\"\n",
    "Example: Given -1->5->3->4->0, sort it to -1->0->3->4->5.\n",
    "\"\"\""
   ]
  },
  {
   "cell_type": "code",
   "execution_count": 1,
   "metadata": {},
   "outputs": [],
   "source": [
    "class ListNode:\n",
    "    def __init__(self, val = 0, nextNode = None):\n",
    "        self.val = val\n",
    "        self.next = nextNode\n",
    "        \n",
    "a = ListNode(-1)\n",
    "b = ListNode(5)\n",
    "c = ListNode(3)\n",
    "d = ListNode(4)\n",
    "e = ListNode(0)\n",
    "\n",
    "a.next = b\n",
    "b.next = c\n",
    "c.next = d\n",
    "d.next = e"
   ]
  },
  {
   "cell_type": "code",
   "execution_count": 2,
   "metadata": {},
   "outputs": [
    {
     "name": "stdout",
     "output_type": "stream",
     "text": [
      "-1\n",
      "5\n",
      "3\n",
      "4\n",
      "0\n"
     ]
    }
   ],
   "source": [
    "node = a\n",
    "\n",
    "while node is not None:\n",
    "    print(node.val)\n",
    "    node = node.next"
   ]
  },
  {
   "cell_type": "code",
   "execution_count": 3,
   "metadata": {},
   "outputs": [],
   "source": [
    "def sortList(head):\n",
    "    return mergeSort(head)\n",
    "\n",
    "def mergeSort(head):\n",
    "    if head is None or head.next is None:\n",
    "        return head\n",
    "\n",
    "    temp = slow = fast = head\n",
    "\n",
    "    while fast and fast.next:\n",
    "        temp = slow\n",
    "        slow = slow.next\n",
    "        fast = fast.next.next\n",
    "\n",
    "    temp.next = None\n",
    "    firstHalf = head\n",
    "    secondHalf = slow\n",
    "\n",
    "    return merge(mergeSort(firstHalf), mergeSort(secondHalf))\n",
    "\n",
    "def merge(l1, l2):\n",
    "    newSortedList = cur = ListNode() # ListNode class is given\n",
    "\n",
    "    while l1 and l2:\n",
    "        if l1.val < l2.val:\n",
    "            cur.next = l1\n",
    "            l1 = l1.next\n",
    "            cur = cur.next\n",
    "        else:\n",
    "            cur.next = l2\n",
    "            l2 = l2.next\n",
    "            cur = cur.next\n",
    "\n",
    "    if l1:\n",
    "        cur.next = l1\n",
    "\n",
    "    if l2:\n",
    "        cur.next = l2\n",
    "\n",
    "    return newSortedList.next"
   ]
  },
  {
   "cell_type": "code",
   "execution_count": 4,
   "metadata": {},
   "outputs": [
    {
     "name": "stdout",
     "output_type": "stream",
     "text": [
      "-1\n",
      "0\n",
      "3\n",
      "4\n",
      "5\n"
     ]
    }
   ],
   "source": [
    "newNode = sortList(a)\n",
    "\n",
    "while newNode is not None:\n",
    "    print(newNode.val)\n",
    "    newNode = newNode.next"
   ]
  },
  {
   "cell_type": "code",
   "execution_count": null,
   "metadata": {},
   "outputs": [],
   "source": []
  }
 ],
 "metadata": {
  "kernelspec": {
   "display_name": "Python 3",
   "language": "python",
   "name": "python3"
  },
  "language_info": {
   "codemirror_mode": {
    "name": "ipython",
    "version": 3
   },
   "file_extension": ".py",
   "mimetype": "text/x-python",
   "name": "python",
   "nbconvert_exporter": "python",
   "pygments_lexer": "ipython3",
   "version": "3.8.3"
  }
 },
 "nbformat": 4,
 "nbformat_minor": 4
}
