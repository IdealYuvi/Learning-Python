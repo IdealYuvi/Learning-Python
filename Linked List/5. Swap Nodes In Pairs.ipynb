{
 "cells": [
  {
   "cell_type": "markdown",
   "metadata": {},
   "source": [
    "# Given a linked list, swap every two adjacent nodes and return its head. You may not modify the values in the list's nodes. Only nodes itself may be changed."
   ]
  },
  {
   "cell_type": "code",
   "execution_count": null,
   "metadata": {},
   "outputs": [],
   "source": [
    "\"\"\"\n",
    "Sample Input: head = [1,2,3,4]\n",
    "Sample Output: [2,1,4,3]\n",
    "\n",
    "Sample Input: head = [1,2,3,4,5,6,7]\n",
    "Sample Output: [2,1,4,3,6,5,7]\n",
    "\"\"\""
   ]
  },
  {
   "cell_type": "code",
   "execution_count": null,
   "metadata": {},
   "outputs": [],
   "source": [
    "# O(n)T / O(1)S\n",
    "\n",
    "def swapPairs(head):\n",
    "    if not head or not head.next:\n",
    "        return head\n",
    "\n",
    "    dummy = prev = ListNode()\n",
    "    cur = head\n",
    "\n",
    "    while cur and cur.next:\n",
    "        prev.next = cur.next\n",
    "        temp = cur.next.next\n",
    "\n",
    "        prev.next.next = cur\n",
    "        cur.next = temp\n",
    "\n",
    "        prev = cur\n",
    "        cur = temp\n",
    "\n",
    "    return dummy.next"
   ]
  }
 ],
 "metadata": {
  "kernelspec": {
   "display_name": "Python 3",
   "language": "python",
   "name": "python3"
  },
  "language_info": {
   "codemirror_mode": {
    "name": "ipython",
    "version": 3
   },
   "file_extension": ".py",
   "mimetype": "text/x-python",
   "name": "python",
   "nbconvert_exporter": "python",
   "pygments_lexer": "ipython3",
   "version": "3.8.3"
  }
 },
 "nbformat": 4,
 "nbformat_minor": 4
}
