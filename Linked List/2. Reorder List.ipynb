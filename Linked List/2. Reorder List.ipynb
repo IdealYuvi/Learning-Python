{
 "cells": [
  {
   "cell_type": "markdown",
   "metadata": {},
   "source": [
    "# Given a singly linked list L: L0→L1→…→Ln-1→Ln, reorder it to: L0→Ln→L1→Ln-1→L2→Ln-2→… \n",
    "# You may not modify the values in the list's nodes, only nodes itself may be changed."
   ]
  },
  {
   "cell_type": "code",
   "execution_count": null,
   "metadata": {},
   "outputs": [],
   "source": [
    "\"\"\"\n",
    "Example 1: Given 1->2->3->4, reorder it to 1->4->2->3.\n",
    "\n",
    "Example 2: Given 1->2->3->4->5, reorder it to 1->5->2->4->3.\n",
    "\"\"\""
   ]
  },
  {
   "cell_type": "code",
   "execution_count": 1,
   "metadata": {},
   "outputs": [],
   "source": [
    "class ListNode:\n",
    "    def __init__(self, val, nextNode = None):\n",
    "        self.val = val\n",
    "        self.next = nextNode\n",
    "        \n",
    "a = ListNode(1)\n",
    "b = ListNode(2)\n",
    "c = ListNode(3)\n",
    "d = ListNode(4)\n",
    "e = ListNode(5)\n",
    "\n",
    "a.next = b\n",
    "b.next = c\n",
    "c.next = d\n",
    "d.next = e"
   ]
  },
  {
   "cell_type": "code",
   "execution_count": 2,
   "metadata": {},
   "outputs": [
    {
     "name": "stdout",
     "output_type": "stream",
     "text": [
      "1\n",
      "2\n",
      "3\n",
      "4\n",
      "5\n"
     ]
    }
   ],
   "source": [
    "node = a\n",
    "\n",
    "while node is not None:\n",
    "    print(node.val)\n",
    "    node = node.next"
   ]
  },
  {
   "cell_type": "code",
   "execution_count": 3,
   "metadata": {},
   "outputs": [],
   "source": [
    "def reorderList(head):\n",
    "    if head is None:\n",
    "        return head\n",
    "\n",
    "    slow = head\n",
    "    fast = head\n",
    "\n",
    "    while fast.next and fast.next.next:\n",
    "        slow = slow.next\n",
    "        fast = fast.next.next\n",
    "\n",
    "    headOfSecondHalf = slow.next\n",
    "    slow.next = None\n",
    "    secondHalfReversed = reverse(headOfSecondHalf)\n",
    "\n",
    "    newHead = merge(head, secondHalfReversed)\n",
    "    \n",
    "    return newHead\n",
    "\n",
    "def reverse(node):\n",
    "    prevNode = None\n",
    "    currentNode = node\n",
    "\n",
    "    while currentNode:\n",
    "        nextNode = currentNode.next\n",
    "        currentNode.next = prevNode\n",
    "        prevNode = currentNode\n",
    "        currentNode = nextNode\n",
    "\n",
    "    return prevNode\n",
    "\n",
    "def merge(node1, node2):\n",
    "    dummy = head = ListNode(0) # ListNode class is given.\n",
    "    first = True\n",
    "\n",
    "    while node1 and node2:\n",
    "        if first:\n",
    "            head.next = node1\n",
    "            head = head.next\n",
    "            node1 = node1.next\n",
    "            first = False\n",
    "        else:\n",
    "            head.next = node2\n",
    "            head = head.next\n",
    "            node2 = node2.next\n",
    "            first = True\n",
    "\n",
    "    if node1:\n",
    "        head.next = node1\n",
    "\n",
    "    if node2:\n",
    "        head.next = node2\n",
    "\n",
    "    return dummy.next"
   ]
  },
  {
   "cell_type": "code",
   "execution_count": 4,
   "metadata": {},
   "outputs": [
    {
     "name": "stdout",
     "output_type": "stream",
     "text": [
      "1\n",
      "5\n",
      "2\n",
      "4\n",
      "3\n"
     ]
    }
   ],
   "source": [
    "newNode = reorderList(a)\n",
    "\n",
    "while newNode is not None:\n",
    "    print(newNode.val)\n",
    "    newNode = newNode.next"
   ]
  },
  {
   "cell_type": "code",
   "execution_count": null,
   "metadata": {},
   "outputs": [],
   "source": []
  }
 ],
 "metadata": {
  "kernelspec": {
   "display_name": "Python 3",
   "language": "python",
   "name": "python3"
  },
  "language_info": {
   "codemirror_mode": {
    "name": "ipython",
    "version": 3
   },
   "file_extension": ".py",
   "mimetype": "text/x-python",
   "name": "python",
   "nbconvert_exporter": "python",
   "pygments_lexer": "ipython3",
   "version": "3.8.3"
  }
 },
 "nbformat": 4,
 "nbformat_minor": 4
}
