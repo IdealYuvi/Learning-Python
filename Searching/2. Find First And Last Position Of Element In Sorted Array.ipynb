{
 "cells": [
  {
   "cell_type": "markdown",
   "metadata": {},
   "source": [
    "# Given an array of integers nums sorted in ascending order, find the starting and ending position of a given target value.\n",
    "\n",
    "# If target is not found in the array, return [-1, -1].\n",
    "\n",
    "# Follow up: Could you write an algorithm with O(log n) runtime complexity?"
   ]
  },
  {
   "cell_type": "code",
   "execution_count": null,
   "metadata": {},
   "outputs": [],
   "source": [
    "\"\"\"\n",
    "Example 1:\n",
    "Input: nums = [5,7,7,8,8,10], target = 8\n",
    "Output: [3,4]\n",
    "\n",
    "Example 2:\n",
    "Input: nums = [5,7,7,8,8,10], target = 6\n",
    "Output: [-1,-1]\n",
    "\n",
    "Example 3:\n",
    "Input: nums = [], target = 0\n",
    "Output: [-1,-1]\n",
    "\"\"\""
   ]
  },
  {
   "cell_type": "code",
   "execution_count": 1,
   "metadata": {},
   "outputs": [],
   "source": [
    "# O(log(n))T / O(1)S\n",
    "\n",
    "def searchRange(nums, target):\n",
    "    left = binarySearch(nums, target, True)\n",
    "    right = binarySearch(nums, target, False)\n",
    "\n",
    "    return [left, right]\n",
    "\n",
    "def binarySearch(nums, target, leftBias):\n",
    "    l, r = 0, len(nums) - 1\n",
    "    i = -1\n",
    "\n",
    "    while l <= r:\n",
    "        mid = (l + r) // 2\n",
    "\n",
    "        if target > nums[mid]:\n",
    "            l = mid + 1\n",
    "        elif target < nums[mid]:\n",
    "            r = mid - 1\n",
    "        else:\n",
    "            i = mid\n",
    "\n",
    "            if leftBias:\n",
    "                r = mid - 1\n",
    "            else:\n",
    "                l = mid + 1\n",
    "\n",
    "    return i"
   ]
  },
  {
   "cell_type": "code",
   "execution_count": 2,
   "metadata": {},
   "outputs": [
    {
     "data": {
      "text/plain": [
       "[3, 4]"
      ]
     },
     "execution_count": 2,
     "metadata": {},
     "output_type": "execute_result"
    }
   ],
   "source": [
    "nums = [5,7,7,8,8,10]\n",
    "target = 8\n",
    "\n",
    "searchRange(nums, target)"
   ]
  },
  {
   "cell_type": "code",
   "execution_count": 3,
   "metadata": {},
   "outputs": [
    {
     "data": {
      "text/plain": [
       "[-1, -1]"
      ]
     },
     "execution_count": 3,
     "metadata": {},
     "output_type": "execute_result"
    }
   ],
   "source": [
    "nums = [5,7,7,8,8,10]\n",
    "target = 6\n",
    "\n",
    "searchRange(nums, target)"
   ]
  },
  {
   "cell_type": "code",
   "execution_count": 4,
   "metadata": {},
   "outputs": [
    {
     "data": {
      "text/plain": [
       "[-1, -1]"
      ]
     },
     "execution_count": 4,
     "metadata": {},
     "output_type": "execute_result"
    }
   ],
   "source": [
    "nums = []\n",
    "target = 0\n",
    "\n",
    "searchRange(nums, target)"
   ]
  },
  {
   "cell_type": "code",
   "execution_count": null,
   "metadata": {},
   "outputs": [],
   "source": []
  }
 ],
 "metadata": {
  "kernelspec": {
   "display_name": "Python 3",
   "language": "python",
   "name": "python3"
  },
  "language_info": {
   "codemirror_mode": {
    "name": "ipython",
    "version": 3
   },
   "file_extension": ".py",
   "mimetype": "text/x-python",
   "name": "python",
   "nbconvert_exporter": "python",
   "pygments_lexer": "ipython3",
   "version": "3.8.3"
  }
 },
 "nbformat": 4,
 "nbformat_minor": 4
}
