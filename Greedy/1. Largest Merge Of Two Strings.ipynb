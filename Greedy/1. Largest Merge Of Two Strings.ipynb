{
 "cells": [
  {
   "cell_type": "markdown",
   "metadata": {},
   "source": [
    "# You are given two strings word1 and word2. You want to construct a string merge in the following way: while either word1 or word2 are non-empty, choose one of the following options:\n",
    "\n",
    "# If word1 is non-empty, append the first character in word1 to merge and delete it from word1. For example, if word1 = \"abc\" and merge = \"dv\", then after choosing this operation, word1 = \"bc\" and merge = \"dva\".\n",
    "\n",
    "# If word2 is non-empty, append the first character in word2 to merge and delete it from word2. For example, if word2 = \"abc\" and merge = \"\", then after choosing this operation, word2 = \"bc\" and merge = \"a\".\n",
    "\n",
    "# Return the lexicographically largest merge you can construct.\n",
    "\n",
    "# A string a is lexicographically larger than a string b (of the same length) if in the first position where a and b differ, a has a character strictly larger than the corresponding character in b. For example, \"abcd\" is lexicographically larger than \"abcc\" because the first position they differ is at the fourth character, and d is greater than c."
   ]
  },
  {
   "cell_type": "code",
   "execution_count": null,
   "metadata": {},
   "outputs": [],
   "source": [
    "\"\"\"\n",
    "Example 1:\n",
    "Input: word1 = \"cabaa\", word2 = \"bcaaa\"\n",
    "Output: \"cbcabaaaaa\"\n",
    "Explanation: One way to get the lexicographically largest merge is:\n",
    "- Take from word1: merge = \"c\", word1 = \"abaa\", word2 = \"bcaaa\"\n",
    "- Take from word2: merge = \"cb\", word1 = \"abaa\", word2 = \"caaa\"\n",
    "- Take from word2: merge = \"cbc\", word1 = \"abaa\", word2 = \"aaa\"\n",
    "- Take from word1: merge = \"cbca\", word1 = \"baa\", word2 = \"aaa\"\n",
    "- Take from word1: merge = \"cbcab\", word1 = \"aa\", word2 = \"aaa\"\n",
    "- Append the remaining 5 a's from word1 and word2 at the end of merge.\n",
    "\n",
    "Example 2:\n",
    "Input: word1 = \"abcabc\", word2 = \"abdcaba\"\n",
    "Output: \"abdcabcabcaba\"\n",
    "\n",
    "\"\"\""
   ]
  },
  {
   "cell_type": "code",
   "execution_count": 1,
   "metadata": {},
   "outputs": [],
   "source": [
    "def largestMerge_1(word1, word2):\n",
    "    ans = ''\n",
    "\n",
    "    while word1 and word2:\n",
    "        if word1 > word2:\n",
    "            ans += word1[0]\n",
    "            word1 = word1[1:]\n",
    "        else:\n",
    "            ans += word2[0]\n",
    "            word2 = word2[1:]\n",
    "\n",
    "    ans += word1\n",
    "    ans += word2\n",
    "\n",
    "    return ans"
   ]
  },
  {
   "cell_type": "code",
   "execution_count": 2,
   "metadata": {},
   "outputs": [
    {
     "data": {
      "text/plain": [
       "'cbcabaaaaa'"
      ]
     },
     "execution_count": 2,
     "metadata": {},
     "output_type": "execute_result"
    }
   ],
   "source": [
    "word1 = \"cabaa\"\n",
    "word2 = \"bcaaa\"\n",
    "\n",
    "largestMerge_1(word1, word2)"
   ]
  },
  {
   "cell_type": "code",
   "execution_count": 3,
   "metadata": {},
   "outputs": [
    {
     "data": {
      "text/plain": [
       "'abdcabcabcaba'"
      ]
     },
     "execution_count": 3,
     "metadata": {},
     "output_type": "execute_result"
    }
   ],
   "source": [
    "word1 = \"abcabc\"\n",
    "word2 = \"abdcaba\"\n",
    "\n",
    "largestMerge_1(word1, word2)"
   ]
  },
  {
   "cell_type": "code",
   "execution_count": 4,
   "metadata": {},
   "outputs": [],
   "source": [
    "# Recursive sol..\n",
    "\n",
    "def largestMerge_2(s1, s2):   \n",
    "    if s1 >= s2 > '':\n",
    "        return s1[0] + largestMerge_2(s1[1:], s2)\n",
    "    if s2 >= s1 > '':\n",
    "        return s2[0] + largestMerge_2(s1, s2[1:])\n",
    "\n",
    "    return s1 + s2"
   ]
  },
  {
   "cell_type": "code",
   "execution_count": 5,
   "metadata": {},
   "outputs": [
    {
     "data": {
      "text/plain": [
       "'cbcabaaaaa'"
      ]
     },
     "execution_count": 5,
     "metadata": {},
     "output_type": "execute_result"
    }
   ],
   "source": [
    "word1 = \"cabaa\"\n",
    "word2 = \"bcaaa\"\n",
    "\n",
    "largestMerge_2(word1, word2)"
   ]
  },
  {
   "cell_type": "code",
   "execution_count": 6,
   "metadata": {},
   "outputs": [
    {
     "data": {
      "text/plain": [
       "'abdcabcabcaba'"
      ]
     },
     "execution_count": 6,
     "metadata": {},
     "output_type": "execute_result"
    }
   ],
   "source": [
    "word1 = \"abcabc\"\n",
    "word2 = \"abdcaba\"\n",
    "\n",
    "largestMerge_2(word1, word2)"
   ]
  },
  {
   "cell_type": "code",
   "execution_count": null,
   "metadata": {},
   "outputs": [],
   "source": []
  }
 ],
 "metadata": {
  "kernelspec": {
   "display_name": "Python 3",
   "language": "python",
   "name": "python3"
  },
  "language_info": {
   "codemirror_mode": {
    "name": "ipython",
    "version": 3
   },
   "file_extension": ".py",
   "mimetype": "text/x-python",
   "name": "python",
   "nbconvert_exporter": "python",
   "pygments_lexer": "ipython3",
   "version": "3.8.3"
  }
 },
 "nbformat": 4,
 "nbformat_minor": 4
}
