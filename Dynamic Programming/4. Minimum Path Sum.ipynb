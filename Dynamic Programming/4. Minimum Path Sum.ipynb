{
 "cells": [
  {
   "cell_type": "markdown",
   "metadata": {},
   "source": [
    "# Given a m x n grid filled with non-negative numbers, find a path from top left to bottom right, which minimizes the sum of all numbers along its path.\n",
    "\n",
    "# Note: You can only move either down or right at any point in time."
   ]
  },
  {
   "cell_type": "code",
   "execution_count": null,
   "metadata": {},
   "outputs": [],
   "source": [
    "\"\"\"\n",
    "Example 1:\n",
    "Input: grid = [[1,3,1],\n",
    "               [1,5,1],\n",
    "               [4,2,1]]\n",
    "Output: 7\n",
    "Explanation: Because the path 1 → 3 → 1 → 1 → 1 minimizes the sum.\n",
    "______________________________________________________________________________\n",
    "\n",
    "Example 2:\n",
    "Input: grid = [[1,2,3],\n",
    "               [4,5,6]]\n",
    "Output: 12\n",
    "\n",
    "\"\"\""
   ]
  },
  {
   "cell_type": "code",
   "execution_count": 1,
   "metadata": {},
   "outputs": [],
   "source": [
    "# O(m*n)T / O(m*n)S - m is length of grid, n is length of grid[0]\n",
    "\n",
    "def minPathSum(grid):\n",
    "    x = len(grid)\n",
    "    y = len(grid[0])\n",
    "\n",
    "    dp = [[0 for i in range(y)] for j in range(x)]\n",
    "\n",
    "    for i in range(x):\n",
    "        for j in range(y):\n",
    "            dp[i][j] += grid[i][j]\n",
    "\n",
    "            if i > 0 and j > 0:\n",
    "                dp[i][j] += min(dp[i - 1][j], dp[i][j - 1])\n",
    "            elif i > 0:\n",
    "                dp[i][j] += dp[i - 1][j]\n",
    "            elif j > 0:\n",
    "                dp[i][j] += dp[i][j - 1]\n",
    "\n",
    "    return dp[-1][-1]"
   ]
  },
  {
   "cell_type": "code",
   "execution_count": 2,
   "metadata": {},
   "outputs": [
    {
     "data": {
      "text/plain": [
       "7"
      ]
     },
     "execution_count": 2,
     "metadata": {},
     "output_type": "execute_result"
    }
   ],
   "source": [
    "grid = [[1,3,1],\n",
    "        [1,5,1],\n",
    "        [4,2,1]]\n",
    "\n",
    "minPathSum(grid)"
   ]
  },
  {
   "cell_type": "code",
   "execution_count": 3,
   "metadata": {},
   "outputs": [
    {
     "data": {
      "text/plain": [
       "12"
      ]
     },
     "execution_count": 3,
     "metadata": {},
     "output_type": "execute_result"
    }
   ],
   "source": [
    "grid = [[1,2,3],\n",
    "        [4,5,6]]\n",
    "\n",
    "minPathSum(grid)"
   ]
  },
  {
   "cell_type": "code",
   "execution_count": null,
   "metadata": {},
   "outputs": [],
   "source": []
  }
 ],
 "metadata": {
  "kernelspec": {
   "display_name": "Python 3",
   "language": "python",
   "name": "python3"
  },
  "language_info": {
   "codemirror_mode": {
    "name": "ipython",
    "version": 3
   },
   "file_extension": ".py",
   "mimetype": "text/x-python",
   "name": "python",
   "nbconvert_exporter": "python",
   "pygments_lexer": "ipython3",
   "version": "3.8.3"
  }
 },
 "nbformat": 4,
 "nbformat_minor": 4
}
