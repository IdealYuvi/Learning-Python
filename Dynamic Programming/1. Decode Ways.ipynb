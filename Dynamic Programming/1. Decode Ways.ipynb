{
 "cells": [
  {
   "cell_type": "markdown",
   "metadata": {},
   "source": [
    "# A message containing letters from A-Z can be encoded into numbers using the following mapping: \n",
    "\n",
    "# 'A' -> '1', 'B' -> '2', ..., 'Z' -> '26'\n",
    "\n",
    "# To decode an encoded message, all the digits must be mapped back into letters using the reverse of the mapping above (there may be multiple ways). For example, \"111\" can have each of its \"1\"s be mapped into 'A's to make \"AAA\", or it could be mapped to \"11\" and \"1\" ('K' and 'A' respectively) to make \"KA\". Note that \"06\" cannot be mapped into 'F' since \"6\" is different from \"06\".\n",
    "\n",
    "# Given a non-empty string containing only digits, return the number of ways to decode it."
   ]
  },
  {
   "cell_type": "code",
   "execution_count": null,
   "metadata": {},
   "outputs": [],
   "source": [
    "\"\"\"\n",
    "Example 1:\n",
    "Input: s = \"12\"\n",
    "Output: 2\n",
    "Explanation: \"12\" could be decoded as \"AB\" (1 2) or \"L\" (12).\n",
    "\n",
    "Example 2:\n",
    "Input: s = \"226\"\n",
    "Output: 3\n",
    "Explanation: \"226\" could be decoded as \"BZ\" (2 26), \"VF\" (22 6), or \"BBF\" (2 2 6).\n",
    "\n",
    "Example 3:\n",
    "Input: s = \"0\"\n",
    "Output: 0\n",
    "Explanation: There is no character that is mapped to a number starting with 0. \n",
    "             The only valid mappings with 0 are 'J' -> \"10\" and 'T' -> \"20\".\n",
    "             Since there is no character, there are no valid ways to decode this since all digits need to be mapped.\n",
    "\n",
    "Example 4:\n",
    "Input: s = \"1\"\n",
    "Output: 1\n",
    "\n",
    "\"\"\""
   ]
  },
  {
   "cell_type": "code",
   "execution_count": 1,
   "metadata": {},
   "outputs": [],
   "source": [
    "# Recurive Solution\n",
    "# O(2^n)T / O(n)S\n",
    "\n",
    "def numDecodings_1(s):\n",
    "    validNums = {str(i) for i in range(1, 27)}\n",
    "    l = len(s)\n",
    "    ans = {'ans': 0}\n",
    "\n",
    "    recursion_1(s, 0, validNums, l, ans)\n",
    "\n",
    "    return ans['ans']\n",
    "\n",
    "def recursion_1(s, i, validNums, l, ans):\n",
    "    if i == l:\n",
    "        ans['ans'] += 1\n",
    "        return \n",
    "\n",
    "    if s[i] == '0':\n",
    "        return\n",
    "\n",
    "    if s[i] in validNums:\n",
    "        recursion_1(s, i + 1, validNums, l, ans)\n",
    "\n",
    "    if i < l - 1 and (s[i] + s[i + 1]) in validNums:\n",
    "        recursion_1(s, i + 2, validNums, l, ans)"
   ]
  },
  {
   "cell_type": "code",
   "execution_count": 2,
   "metadata": {},
   "outputs": [
    {
     "data": {
      "text/plain": [
       "2"
      ]
     },
     "execution_count": 2,
     "metadata": {},
     "output_type": "execute_result"
    }
   ],
   "source": [
    "s = '12'\n",
    "\n",
    "numDecodings_1(s)"
   ]
  },
  {
   "cell_type": "code",
   "execution_count": 3,
   "metadata": {},
   "outputs": [
    {
     "data": {
      "text/plain": [
       "3"
      ]
     },
     "execution_count": 3,
     "metadata": {},
     "output_type": "execute_result"
    }
   ],
   "source": [
    "s = '226'\n",
    "\n",
    "numDecodings_1(s)"
   ]
  },
  {
   "cell_type": "code",
   "execution_count": 4,
   "metadata": {},
   "outputs": [
    {
     "data": {
      "text/plain": [
       "0"
      ]
     },
     "execution_count": 4,
     "metadata": {},
     "output_type": "execute_result"
    }
   ],
   "source": [
    "s = '0'\n",
    "\n",
    "numDecodings_1(s)"
   ]
  },
  {
   "cell_type": "code",
   "execution_count": 5,
   "metadata": {},
   "outputs": [
    {
     "data": {
      "text/plain": [
       "1"
      ]
     },
     "execution_count": 5,
     "metadata": {},
     "output_type": "execute_result"
    }
   ],
   "source": [
    "s = '1'\n",
    "\n",
    "numDecodings_1(s)"
   ]
  },
  {
   "cell_type": "code",
   "execution_count": 6,
   "metadata": {},
   "outputs": [
    {
     "data": {
      "text/plain": [
       "3"
      ]
     },
     "execution_count": 6,
     "metadata": {},
     "output_type": "execute_result"
    }
   ],
   "source": [
    "s = '123456'\n",
    "\n",
    "numDecodings_1(s)"
   ]
  },
  {
   "cell_type": "code",
   "execution_count": 7,
   "metadata": {},
   "outputs": [],
   "source": [
    "# Recursion With Memoization\n",
    "# O(n)T / O(n)S\n",
    "\n",
    "def numDecodings_2(s):\n",
    "    validNums = {str(i) for i in range(1, 27)}\n",
    "    l = len(s)\n",
    "    memo = {}        \n",
    "\n",
    "    return recursion_2(s, 0, validNums, l, memo)\n",
    "\n",
    "def recursion_2(s, i, validNums, l, memo):\n",
    "    if i in memo:\n",
    "        return memo[i]\n",
    "\n",
    "    if i == l:\n",
    "        return 1\n",
    "\n",
    "    if s[i] == '0':\n",
    "        return 0\n",
    "\n",
    "    ans1 = ans2 = 0\n",
    "\n",
    "    if s[i] in validNums:\n",
    "        ans1 = recursion_2(s, i + 1, validNums, l, memo)\n",
    "\n",
    "    if i < l - 1 and (s[i] + s[i + 1]) in validNums:\n",
    "        ans2 = recursion_2(s, i + 2, validNums, l, memo)\n",
    "\n",
    "    memo[i] = ans1 + ans2\n",
    "\n",
    "    return memo[i]"
   ]
  },
  {
   "cell_type": "code",
   "execution_count": 8,
   "metadata": {},
   "outputs": [
    {
     "data": {
      "text/plain": [
       "2"
      ]
     },
     "execution_count": 8,
     "metadata": {},
     "output_type": "execute_result"
    }
   ],
   "source": [
    "s = '12'\n",
    "\n",
    "numDecodings_2(s)"
   ]
  },
  {
   "cell_type": "code",
   "execution_count": 9,
   "metadata": {},
   "outputs": [
    {
     "data": {
      "text/plain": [
       "3"
      ]
     },
     "execution_count": 9,
     "metadata": {},
     "output_type": "execute_result"
    }
   ],
   "source": [
    "s = '226'\n",
    "\n",
    "numDecodings_2(s)"
   ]
  },
  {
   "cell_type": "code",
   "execution_count": 10,
   "metadata": {},
   "outputs": [
    {
     "data": {
      "text/plain": [
       "0"
      ]
     },
     "execution_count": 10,
     "metadata": {},
     "output_type": "execute_result"
    }
   ],
   "source": [
    "s = '0'\n",
    "\n",
    "numDecodings_2(s)"
   ]
  },
  {
   "cell_type": "code",
   "execution_count": 11,
   "metadata": {},
   "outputs": [
    {
     "data": {
      "text/plain": [
       "1"
      ]
     },
     "execution_count": 11,
     "metadata": {},
     "output_type": "execute_result"
    }
   ],
   "source": [
    "s = '1'\n",
    "\n",
    "numDecodings_2(s)"
   ]
  },
  {
   "cell_type": "code",
   "execution_count": 12,
   "metadata": {},
   "outputs": [
    {
     "data": {
      "text/plain": [
       "3"
      ]
     },
     "execution_count": 12,
     "metadata": {},
     "output_type": "execute_result"
    }
   ],
   "source": [
    "s = '123456'\n",
    "\n",
    "numDecodings_2(s)"
   ]
  },
  {
   "cell_type": "code",
   "execution_count": 13,
   "metadata": {},
   "outputs": [],
   "source": [
    "# Dynamic Programming\n",
    "\n",
    "def numDecodings_3(s):\n",
    "    dp = [0] * (len(s) + 1)\n",
    "    dp[0] = 1\n",
    "    dp[1] = 1 if s[0] != '0' else 0\n",
    "\n",
    "    for i in range(2, len(s) + 1):\n",
    "        oneDigit = int(s[i - 1: i])\n",
    "        twoDigits = int(s[i - 2: i])\n",
    "\n",
    "        if oneDigit >= 1:\n",
    "            dp[i] += dp[i - 1]\n",
    "\n",
    "        if (twoDigits >= 10) and (twoDigits <= 26):\n",
    "            dp[i] += dp[i - 2]\n",
    "\n",
    "    return dp[-1]"
   ]
  },
  {
   "cell_type": "code",
   "execution_count": 14,
   "metadata": {},
   "outputs": [
    {
     "data": {
      "text/plain": [
       "2"
      ]
     },
     "execution_count": 14,
     "metadata": {},
     "output_type": "execute_result"
    }
   ],
   "source": [
    "s = '12'\n",
    "\n",
    "numDecodings_3(s)"
   ]
  },
  {
   "cell_type": "code",
   "execution_count": 15,
   "metadata": {},
   "outputs": [
    {
     "data": {
      "text/plain": [
       "3"
      ]
     },
     "execution_count": 15,
     "metadata": {},
     "output_type": "execute_result"
    }
   ],
   "source": [
    "s = '226'\n",
    "\n",
    "numDecodings_3(s)"
   ]
  },
  {
   "cell_type": "code",
   "execution_count": 16,
   "metadata": {},
   "outputs": [
    {
     "data": {
      "text/plain": [
       "0"
      ]
     },
     "execution_count": 16,
     "metadata": {},
     "output_type": "execute_result"
    }
   ],
   "source": [
    "s = '0'\n",
    "\n",
    "numDecodings_3(s)"
   ]
  },
  {
   "cell_type": "code",
   "execution_count": 17,
   "metadata": {},
   "outputs": [
    {
     "data": {
      "text/plain": [
       "1"
      ]
     },
     "execution_count": 17,
     "metadata": {},
     "output_type": "execute_result"
    }
   ],
   "source": [
    "s = '1'\n",
    "\n",
    "numDecodings_3(s)"
   ]
  },
  {
   "cell_type": "code",
   "execution_count": 18,
   "metadata": {},
   "outputs": [
    {
     "data": {
      "text/plain": [
       "3"
      ]
     },
     "execution_count": 18,
     "metadata": {},
     "output_type": "execute_result"
    }
   ],
   "source": [
    "s = '123456'\n",
    "\n",
    "numDecodings_3(s)"
   ]
  },
  {
   "cell_type": "code",
   "execution_count": null,
   "metadata": {},
   "outputs": [],
   "source": []
  }
 ],
 "metadata": {
  "kernelspec": {
   "display_name": "Python 3",
   "language": "python",
   "name": "python3"
  },
  "language_info": {
   "codemirror_mode": {
    "name": "ipython",
    "version": 3
   },
   "file_extension": ".py",
   "mimetype": "text/x-python",
   "name": "python",
   "nbconvert_exporter": "python",
   "pygments_lexer": "ipython3",
   "version": "3.8.3"
  }
 },
 "nbformat": 4,
 "nbformat_minor": 4
}
