{
 "cells": [
  {
   "cell_type": "markdown",
   "metadata": {},
   "source": [
    "# A message containing letters from A-Z can be encoded into numbers using the following mapping: \n",
    "\n",
    "# 'A' -> '1', 'B' -> '2', ..., 'Z' -> '26'\n",
    "\n",
    "# To decode an encoded message, all the digits must be mapped back into letters using the reverse of the mapping above (there may be multiple ways). For example, \"111\" can have each of its \"1\"s be mapped into 'A's to make \"AAA\", or it could be mapped to \"11\" and \"1\" ('K' and 'A' respectively) to make \"KA\". Note that \"06\" cannot be mapped into 'F' since \"6\" is different from \"06\".\n",
    "\n",
    "# Given a non-empty string containing only digits, return the number of ways to decode it."
   ]
  },
  {
   "cell_type": "code",
   "execution_count": null,
   "metadata": {},
   "outputs": [],
   "source": [
    "\"\"\"\n",
    "Example 1:\n",
    "Input: s = \"12\"\n",
    "Output: 2\n",
    "Explanation: \"12\" could be decoded as \"AB\" (1 2) or \"L\" (12).\n",
    "\n",
    "Example 2:\n",
    "Input: s = \"226\"\n",
    "Output: 3\n",
    "Explanation: \"226\" could be decoded as \"BZ\" (2 26), \"VF\" (22 6), or \"BBF\" (2 2 6).\n",
    "\n",
    "Example 3:\n",
    "Input: s = \"0\"\n",
    "Output: 0\n",
    "Explanation: There is no character that is mapped to a number starting with 0. \n",
    "             The only valid mappings with 0 are 'J' -> \"10\" and 'T' -> \"20\".\n",
    "             Since there is no character, there are no valid ways to decode this since all digits need to be mapped.\n",
    "\n",
    "Example 4:\n",
    "Input: s = \"1\"\n",
    "Output: 1\n",
    "\n",
    "\"\"\""
   ]
  },
  {
   "cell_type": "code",
   "execution_count": 1,
   "metadata": {},
   "outputs": [],
   "source": [
    "def numDecodings(s):\n",
    "    dp = [0] * (len(s) + 1)\n",
    "    dp[0] = 1\n",
    "    dp[1] = 1 if s[0] != '0' else 0\n",
    "\n",
    "    for i in range(2, len(s) + 1):\n",
    "        oneDigit = int(s[i - 1: i])\n",
    "        twoDigits = int(s[i - 2: i])\n",
    "\n",
    "        if oneDigit >= 1:\n",
    "            dp[i] += dp[i - 1]\n",
    "\n",
    "        if (twoDigits >= 10) and (twoDigits <= 26):\n",
    "            dp[i] += dp[i - 2]\n",
    "\n",
    "    return dp[-1]"
   ]
  },
  {
   "cell_type": "code",
   "execution_count": 2,
   "metadata": {},
   "outputs": [
    {
     "data": {
      "text/plain": [
       "2"
      ]
     },
     "execution_count": 2,
     "metadata": {},
     "output_type": "execute_result"
    }
   ],
   "source": [
    "s = '12'\n",
    "\n",
    "numDecodings(s)"
   ]
  },
  {
   "cell_type": "code",
   "execution_count": 3,
   "metadata": {},
   "outputs": [
    {
     "data": {
      "text/plain": [
       "3"
      ]
     },
     "execution_count": 3,
     "metadata": {},
     "output_type": "execute_result"
    }
   ],
   "source": [
    "s = '226'\n",
    "\n",
    "numDecodings(s)"
   ]
  },
  {
   "cell_type": "code",
   "execution_count": 4,
   "metadata": {},
   "outputs": [
    {
     "data": {
      "text/plain": [
       "0"
      ]
     },
     "execution_count": 4,
     "metadata": {},
     "output_type": "execute_result"
    }
   ],
   "source": [
    "s = '0'\n",
    "\n",
    "numDecodings(s)"
   ]
  },
  {
   "cell_type": "code",
   "execution_count": 5,
   "metadata": {},
   "outputs": [
    {
     "data": {
      "text/plain": [
       "1"
      ]
     },
     "execution_count": 5,
     "metadata": {},
     "output_type": "execute_result"
    }
   ],
   "source": [
    "s = '1'\n",
    "\n",
    "numDecodings(s)"
   ]
  },
  {
   "cell_type": "code",
   "execution_count": null,
   "metadata": {},
   "outputs": [],
   "source": []
  }
 ],
 "metadata": {
  "kernelspec": {
   "display_name": "Python 3",
   "language": "python",
   "name": "python3"
  },
  "language_info": {
   "codemirror_mode": {
    "name": "ipython",
    "version": 3
   },
   "file_extension": ".py",
   "mimetype": "text/x-python",
   "name": "python",
   "nbconvert_exporter": "python",
   "pygments_lexer": "ipython3",
   "version": "3.8.3"
  }
 },
 "nbformat": 4,
 "nbformat_minor": 4
}
