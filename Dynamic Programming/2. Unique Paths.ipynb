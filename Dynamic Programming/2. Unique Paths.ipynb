{
 "cells": [
  {
   "cell_type": "markdown",
   "metadata": {},
   "source": [
    "# A robot is located at the top-left corner of a m x n grid.\n",
    "\n",
    "# The robot can only move either down or right at any point in time. The robot is trying to reach the bottom-right corner of the grid.\n",
    "\n",
    "# How many possible unique paths are there?"
   ]
  },
  {
   "cell_type": "code",
   "execution_count": null,
   "metadata": {},
   "outputs": [],
   "source": [
    "\"\"\"\n",
    "Example 1:\n",
    "Input: m = 3, n = 7\n",
    "Output: 28\n",
    "________________________________________________________________________________________________________\n",
    "\n",
    "Example 2:\n",
    "Input: m = 3, n = 2\n",
    "Output: 3\n",
    "Explanation:\n",
    "From the top-left corner, there are a total of 3 ways to reach the bottom-right corner:\n",
    "1. Right -> Down -> Down\n",
    "2. Down -> Down -> Right\n",
    "3. Down -> Right -> Down\n",
    "________________________________________________________________________________________________________\n",
    "\n",
    "Example 3:\n",
    "Input: m = 3, n = 3\n",
    "Output: 6\n",
    "\n",
    "\"\"\""
   ]
  },
  {
   "cell_type": "code",
   "execution_count": 1,
   "metadata": {},
   "outputs": [],
   "source": [
    "# Dynamic Programming\n",
    "# O(m * n)T / O(m * n)S\n",
    "\n",
    "def uniquePaths_1(m, n):\n",
    "    dp = [[1] * n for i in range(m)]\n",
    "\n",
    "    for i in range(1,m):\n",
    "        for j in range(1,n):\n",
    "            dp[i][j] = dp[i-1][j] + dp[i][j-1]  \n",
    "\n",
    "    return dp[m-1][n-1]"
   ]
  },
  {
   "cell_type": "code",
   "execution_count": 2,
   "metadata": {},
   "outputs": [
    {
     "data": {
      "text/plain": [
       "28"
      ]
     },
     "execution_count": 2,
     "metadata": {},
     "output_type": "execute_result"
    }
   ],
   "source": [
    "m = 3\n",
    "n = 7\n",
    "\n",
    "uniquePaths_1(m, n)"
   ]
  },
  {
   "cell_type": "code",
   "execution_count": 3,
   "metadata": {},
   "outputs": [
    {
     "data": {
      "text/plain": [
       "3"
      ]
     },
     "execution_count": 3,
     "metadata": {},
     "output_type": "execute_result"
    }
   ],
   "source": [
    "m = 3\n",
    "n = 2\n",
    "\n",
    "uniquePaths_1(m, n)"
   ]
  },
  {
   "cell_type": "code",
   "execution_count": 4,
   "metadata": {},
   "outputs": [
    {
     "data": {
      "text/plain": [
       "6"
      ]
     },
     "execution_count": 4,
     "metadata": {},
     "output_type": "execute_result"
    }
   ],
   "source": [
    "m = 3\n",
    "n = 3\n",
    "\n",
    "uniquePaths_1(m, n)"
   ]
  },
  {
   "cell_type": "code",
   "execution_count": 5,
   "metadata": {},
   "outputs": [],
   "source": [
    "# Dynamic Programming\n",
    "# O(m * n)T / O(n)S\n",
    "\n",
    "def uniquePaths_2(m, n):\n",
    "    if m == 1 or n == 1:\n",
    "            return 1\n",
    "        \n",
    "    dp = [1] * n\n",
    "    \n",
    "    for i in range(1, m):\n",
    "        for j in range(1, n):\n",
    "            dp[j] += dp[j-1]\n",
    "            \n",
    "    return dp[n-1]"
   ]
  },
  {
   "cell_type": "code",
   "execution_count": 6,
   "metadata": {},
   "outputs": [
    {
     "data": {
      "text/plain": [
       "28"
      ]
     },
     "execution_count": 6,
     "metadata": {},
     "output_type": "execute_result"
    }
   ],
   "source": [
    "m = 3\n",
    "n = 7\n",
    "\n",
    "uniquePaths_2(m, n)"
   ]
  },
  {
   "cell_type": "code",
   "execution_count": 7,
   "metadata": {},
   "outputs": [
    {
     "data": {
      "text/plain": [
       "6"
      ]
     },
     "execution_count": 7,
     "metadata": {},
     "output_type": "execute_result"
    }
   ],
   "source": [
    "m = 3\n",
    "n = 3\n",
    "\n",
    "uniquePaths_2(m, n)"
   ]
  },
  {
   "cell_type": "code",
   "execution_count": 8,
   "metadata": {},
   "outputs": [],
   "source": [
    "# Recursion... Very Worst Time Complexity\n",
    "\n",
    "def uniquePaths_3(m, n):\n",
    "    res = [0]\n",
    "    dfs(0, 0, m, n, res)\n",
    "\n",
    "    return res[0]\n",
    "\n",
    "def dfs(i, j, m, n, res):\n",
    "    if i >= m or j >= n:\n",
    "        return\n",
    "\n",
    "    if i == m - 1 and j == n - 1:\n",
    "        res[0] += 1\n",
    "        return \n",
    "\n",
    "    dfs(i + 1, j, m, n, res)\n",
    "    dfs(i, j + 1, m, n, res)"
   ]
  },
  {
   "cell_type": "code",
   "execution_count": 9,
   "metadata": {},
   "outputs": [
    {
     "data": {
      "text/plain": [
       "28"
      ]
     },
     "execution_count": 9,
     "metadata": {},
     "output_type": "execute_result"
    }
   ],
   "source": [
    "m = 3\n",
    "n = 7\n",
    "\n",
    "uniquePaths_3(m, n)"
   ]
  },
  {
   "cell_type": "code",
   "execution_count": 10,
   "metadata": {},
   "outputs": [
    {
     "data": {
      "text/plain": [
       "6"
      ]
     },
     "execution_count": 10,
     "metadata": {},
     "output_type": "execute_result"
    }
   ],
   "source": [
    "m = 3\n",
    "n = 3\n",
    "\n",
    "uniquePaths_3(m, n)"
   ]
  },
  {
   "cell_type": "code",
   "execution_count": 11,
   "metadata": {},
   "outputs": [],
   "source": [
    "# Recursion With Memoization... Acceptable\n",
    "\n",
    "def uniquePaths_4(m, n):\n",
    "    mem = {}\n",
    "\n",
    "    return dfs(0, 0, m, n, mem)\n",
    "\n",
    "def dfs(i, j, m, n, mem):\n",
    "    if (i, j) in mem:\n",
    "        return mem[(i, j)]\n",
    "\n",
    "    if i >= m or j >= n:\n",
    "        return 0\n",
    "\n",
    "    if i == m - 1 and j == n - 1:\n",
    "        return 1\n",
    "\n",
    "    mem[(i + 1, j)] = dfs(i + 1, j, m, n, mem)  # going down\n",
    "    mem[(i, j + 1)] = dfs(i, j + 1, m, n, mem)  # going right\n",
    "\n",
    "    return mem[(i + 1, j)] + mem[(i, j + 1)]"
   ]
  },
  {
   "cell_type": "code",
   "execution_count": 12,
   "metadata": {},
   "outputs": [
    {
     "data": {
      "text/plain": [
       "28"
      ]
     },
     "execution_count": 12,
     "metadata": {},
     "output_type": "execute_result"
    }
   ],
   "source": [
    "m = 3\n",
    "n = 7\n",
    "\n",
    "uniquePaths_4(m, n)"
   ]
  },
  {
   "cell_type": "code",
   "execution_count": 13,
   "metadata": {},
   "outputs": [
    {
     "data": {
      "text/plain": [
       "6"
      ]
     },
     "execution_count": 13,
     "metadata": {},
     "output_type": "execute_result"
    }
   ],
   "source": [
    "m = 3\n",
    "n = 3\n",
    "\n",
    "uniquePaths_4(m, n)"
   ]
  },
  {
   "cell_type": "code",
   "execution_count": null,
   "metadata": {},
   "outputs": [],
   "source": []
  }
 ],
 "metadata": {
  "kernelspec": {
   "display_name": "Python 3",
   "language": "python",
   "name": "python3"
  },
  "language_info": {
   "codemirror_mode": {
    "name": "ipython",
    "version": 3
   },
   "file_extension": ".py",
   "mimetype": "text/x-python",
   "name": "python",
   "nbconvert_exporter": "python",
   "pygments_lexer": "ipython3",
   "version": "3.8.3"
  }
 },
 "nbformat": 4,
 "nbformat_minor": 4
}
