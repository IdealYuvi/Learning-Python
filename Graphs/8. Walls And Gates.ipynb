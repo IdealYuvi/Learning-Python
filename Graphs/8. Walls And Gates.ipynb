{
 "cells": [
  {
   "cell_type": "markdown",
   "metadata": {},
   "source": [
    "# You are given m x n 2D grid, initialized with these three possible values.\n",
    "# 1. -1, a wall or an obstacle\n",
    "# 2. 0, a gate\n",
    "# 3. inf, a empty room. We use value ((2**31) - 1) to represent inf.\n",
    "\n",
    "# Fill each empty room with a distance to its nearest gate. If it is impossible to reach a gate, it shoud be filled with inf."
   ]
  },
  {
   "cell_type": "code",
   "execution_count": null,
   "metadata": {},
   "outputs": [],
   "source": [
    "\"\"\"\n",
    "Sample Input:  [[inf, -1, 0, inf],\n",
    "                [inf, inf, inf, -1],\n",
    "                [inf, -1, inf, -1],\n",
    "                [0, -1, inf, inf]]\n",
    "        \n",
    "Sample Output: [ [3, -1, 0, 1],\n",
    "                 [2, 2, 1, -1],\n",
    "                 [1, -1, 2, -1],\n",
    "                 [0, -1, 3, 4]]\n",
    "\"\"\""
   ]
  },
  {
   "cell_type": "code",
   "execution_count": 1,
   "metadata": {},
   "outputs": [],
   "source": [
    "def wallsAndGates(rooms):\n",
    "    for i in range(len(rooms)):\n",
    "        for j in range(len(rooms[0])):\n",
    "            if rooms[i][j] == 0:\n",
    "                dfs(i, j, 0, rooms)\n",
    "\n",
    "    return rooms\n",
    "\n",
    "def dfs(i, j, count, rooms):\n",
    "    if i < 0 or i >= len(rooms) or j < 0 or j >= len(rooms[i]) or rooms[i][j] < count:\n",
    "        return\n",
    "    \n",
    "    rooms[i][j] = count\n",
    "    \n",
    "    dfs(i + 1, j, count + 1, rooms)\n",
    "    dfs(i - 1, j, count + 1, rooms)\n",
    "    dfs(i, j + 1, count + 1, rooms)\n",
    "    dfs(i, j - 1, count + 1, rooms)"
   ]
  },
  {
   "cell_type": "code",
   "execution_count": 2,
   "metadata": {},
   "outputs": [
    {
     "data": {
      "text/plain": [
       "[[3, -1, 0, 1], [2, 2, 1, -1], [1, -1, 2, -1], [0, -1, 3, 4]]"
      ]
     },
     "execution_count": 2,
     "metadata": {},
     "output_type": "execute_result"
    }
   ],
   "source": [
    "rooms = [[float('inf'), -1, 0, float('inf')],\n",
    "         [float('inf'), float('inf'),float('inf'), -1],\n",
    "         [float('inf'), -1, float('inf'), -1],\n",
    "         [0, -1, float('inf'), float('inf')]]\n",
    "\n",
    "wallsAndGates(rooms)"
   ]
  },
  {
   "cell_type": "code",
   "execution_count": null,
   "metadata": {},
   "outputs": [],
   "source": []
  }
 ],
 "metadata": {
  "kernelspec": {
   "display_name": "Python 3",
   "language": "python",
   "name": "python3"
  },
  "language_info": {
   "codemirror_mode": {
    "name": "ipython",
    "version": 3
   },
   "file_extension": ".py",
   "mimetype": "text/x-python",
   "name": "python",
   "nbconvert_exporter": "python",
   "pygments_lexer": "ipython3",
   "version": "3.8.3"
  }
 },
 "nbformat": 4,
 "nbformat_minor": 4
}
