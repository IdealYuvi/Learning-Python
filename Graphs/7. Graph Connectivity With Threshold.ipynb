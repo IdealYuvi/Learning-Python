{
 "cells": [
  {
   "cell_type": "markdown",
   "metadata": {},
   "source": [
    "# We have n cities labeled from 1 to n. Two different cities with labels x and y are directly connected by a bidirectional road if and only if x and y share a common divisor strictly greater than some threshold. More formally, cities with labels x and y have a road between them if there exists an integer z such that all of the following are true: x % z == 0, y % z == 0, and z > threshold.\n",
    "\n",
    "# Given the two integers, n and threshold, and an array of queries, you must determine for each queries[i] = [ai, bi] if cities ai and bi are connected (i.e. there is some path between them).\n",
    "\n",
    "# Return an array answer, where answer.length == queries.length and answer[i] is true if for the ith query, there is a path between ai and bi, or answer[i] is false if there is no path."
   ]
  },
  {
   "cell_type": "code",
   "execution_count": null,
   "metadata": {},
   "outputs": [],
   "source": [
    "\"\"\"\n",
    "Example 1:\n",
    "Input: n = 6, threshold = 2, queries = [[1,4],[2,5],[3,6]]\n",
    "Output: [false,false,true]\n",
    "Explanation: The divisors for each number:\n",
    "1: 1\n",
    "2: 1, 2\n",
    "3: 1, 3\n",
    "4: 1, 2, 4\n",
    "5: 1, 5\n",
    "6: 1, 2, 3, 6\n",
    "Using the underlined divisors above the threshold, only cities 3 and 6 share a common divisor, so they are the\n",
    "only ones directly connected. The result of each query:\n",
    "[1,4] 1 is not connected to 4\n",
    "[2,5] 2 is not connected to 5\n",
    "[3,6] 3 is connected to 6 through path 3--6\n",
    "\n",
    "Example 2:\n",
    "Input: n = 6, threshold = 0, queries = [[4,5],[3,4],[3,2],[2,6],[1,3]]\n",
    "Output: [true,true,true,true,true]\n",
    "Explanation: The divisors for each number are the same as the previous example. However, since the threshold is 0,\n",
    "all divisors can be used. Since all numbers share 1 as a divisor, all cities are connected.\n",
    "\n",
    "Example 3:\n",
    "Input: n = 5, threshold = 1, queries = [[4,5],[4,5],[3,2],[2,3],[3,4]]\n",
    "Output: [false,false,false,false,false]\n",
    "Explanation: Only cities 2 and 4 share a common divisor 2 which is strictly greater than the threshold 1, so they are the only ones directly connected.\n",
    "Please notice that there can be multiple queries for the same pair of nodes [x, y], and that the query [x, y] is equivalent to the query [y, x].\n",
    "\n",
    "\"\"\""
   ]
  },
  {
   "cell_type": "code",
   "execution_count": 1,
   "metadata": {},
   "outputs": [],
   "source": [
    "def areConnected(n, threshold, queries):\n",
    "    parent = [i for i in range(n + 1)]\n",
    "    rank = [1 for i in range(n + 1)]\n",
    "\n",
    "    def find(x):\n",
    "        if parent[x] == x:\n",
    "            return x\n",
    "\n",
    "        parent[x] = find(parent[x])\n",
    "\n",
    "        return parent[x]\n",
    "\n",
    "    def union(a, b):\n",
    "        a = find(a)\n",
    "        b = find(b) \n",
    "\n",
    "        if rank[a] > rank[b]:\n",
    "            parent[b] = a\n",
    "            rank[a] += rank[b]\n",
    "        else:\n",
    "            parent[a] = b\n",
    "            rank[b] += rank[a]\n",
    "\n",
    "    for i in range(threshold + 1, n + 1):\n",
    "        m = 1\n",
    "\n",
    "        while i * m <= n:\n",
    "            union(i, i * m)\n",
    "            m += 1\n",
    "\n",
    "    ans = []\n",
    "\n",
    "    for a, b in queries:\n",
    "        if find(a) == find(b):\n",
    "            ans.append(True)\n",
    "        else:\n",
    "            ans.append(False)\n",
    "\n",
    "    return ans"
   ]
  },
  {
   "cell_type": "code",
   "execution_count": 2,
   "metadata": {},
   "outputs": [
    {
     "data": {
      "text/plain": [
       "[False, False, True]"
      ]
     },
     "execution_count": 2,
     "metadata": {},
     "output_type": "execute_result"
    }
   ],
   "source": [
    "n = 6\n",
    "threshold = 2\n",
    "queries = [[1,4],[2,5],[3,6]]\n",
    "\n",
    "areConnected(n, threshold, queries)"
   ]
  },
  {
   "cell_type": "code",
   "execution_count": 3,
   "metadata": {},
   "outputs": [
    {
     "data": {
      "text/plain": [
       "[True, True, True, True, True]"
      ]
     },
     "execution_count": 3,
     "metadata": {},
     "output_type": "execute_result"
    }
   ],
   "source": [
    "n = 6\n",
    "threshold = 0\n",
    "queries = [[4,5],[3,4],[3,2],[2,6],[1,3]]\n",
    "\n",
    "areConnected(n, threshold, queries)"
   ]
  },
  {
   "cell_type": "code",
   "execution_count": 4,
   "metadata": {},
   "outputs": [
    {
     "data": {
      "text/plain": [
       "[False, False, False, False, False]"
      ]
     },
     "execution_count": 4,
     "metadata": {},
     "output_type": "execute_result"
    }
   ],
   "source": [
    "n = 5\n",
    "threshold = 1\n",
    "queries = [[4,5],[4,5],[3,2],[2,3],[3,4]]\n",
    "\n",
    "areConnected(n, threshold, queries)"
   ]
  },
  {
   "cell_type": "code",
   "execution_count": null,
   "metadata": {},
   "outputs": [],
   "source": []
  }
 ],
 "metadata": {
  "kernelspec": {
   "display_name": "Python 3",
   "language": "python",
   "name": "python3"
  },
  "language_info": {
   "codemirror_mode": {
    "name": "ipython",
    "version": 3
   },
   "file_extension": ".py",
   "mimetype": "text/x-python",
   "name": "python",
   "nbconvert_exporter": "python",
   "pygments_lexer": "ipython3",
   "version": "3.8.3"
  }
 },
 "nbformat": 4,
 "nbformat_minor": 4
}
