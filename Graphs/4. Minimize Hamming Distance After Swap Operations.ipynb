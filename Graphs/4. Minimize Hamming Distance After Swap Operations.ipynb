{
 "cells": [
  {
   "cell_type": "markdown",
   "metadata": {},
   "source": [
    "# You are given two integer arrays, source and target, both of length n. You are also given an array allowedSwaps where each allowedSwaps[i] = [ai, bi] indicates that you are allowed to swap the elements at index ai and index bi (0-indexed) of array source. Note that you can swap elements at a specific pair of indices multiple times and in any order.\n",
    "\n",
    "# The Hamming distance of two arrays of the same length, source and target, is the number of positions where the elements are different. Formally, it is the number of indices i for 0 <= i <= n-1 where source[i] != target[i] (0-indexed).\n",
    "\n",
    "# Return the minimum Hamming distance of source and target after performing any amount of swap operations on array source."
   ]
  },
  {
   "cell_type": "code",
   "execution_count": null,
   "metadata": {},
   "outputs": [],
   "source": [
    "\"\"\"\n",
    "Example 1:\n",
    "Input: source = [1,2,3,4], target = [2,1,4,5], allowedSwaps = [[0,1],[2,3]]\n",
    "Output: 1\n",
    "Explanation: source can be transformed the following way:\n",
    "- Swap indices 0 and 1: source = [2,1,3,4]\n",
    "- Swap indices 2 and 3: source = [2,1,4,3]\n",
    "The Hamming distance of source and target is 1 as they differ in 1 position: index 3.\n",
    "\n",
    "Example 2:\n",
    "Input: source = [1,2,3,4], target = [1,3,2,4], allowedSwaps = []\n",
    "Output: 2\n",
    "Explanation: There are no allowed swaps.\n",
    "The Hamming distance of source and target is 2 as they differ in 2 positions: index 1 and index 2.\n",
    "\n",
    "Example 3:\n",
    "Input: source = [5,1,2,4,3], target = [1,5,4,2,3], allowedSwaps = [[0,4],[4,2],[1,3],[1,4]]\n",
    "Output: 0\n",
    "\n",
    "\"\"\""
   ]
  },
  {
   "cell_type": "code",
   "execution_count": 1,
   "metadata": {},
   "outputs": [],
   "source": [
    "from collections import defaultdict\n",
    "def minimumHammingDistance(source, target, allowedSwaps):\n",
    "    f = {}\n",
    "\n",
    "    def find(a):\n",
    "        f.setdefault(a,a)\n",
    "        if f[a] != a:\n",
    "            f[a] = find(f[a])\n",
    "        return f[a]\n",
    "\n",
    "    def union(a,b):\n",
    "        f.setdefault(a,a)\n",
    "        f.setdefault(b,b)\n",
    "        f[find(a)] = f[find(b)]\n",
    "\n",
    "    for a,b in allowedSwaps:\n",
    "        union(a,b)\n",
    "\n",
    "    d = defaultdict(dict)\n",
    "    for i, val in enumerate(source):\n",
    "        d[find(i)].setdefault(val, 0)\n",
    "        d[find(i)][val] += 1\n",
    "\n",
    "    ans = 0\n",
    "    for i, val in enumerate(target):\n",
    "        if val in d[find(i)]:\n",
    "            d[find(i)][val] -= 1\n",
    "            if not d[find(i)][val]:\n",
    "                del d[find(i)][val]\n",
    "        else:\n",
    "            ans += 1\n",
    "\n",
    "    return ans"
   ]
  },
  {
   "cell_type": "code",
   "execution_count": 2,
   "metadata": {},
   "outputs": [
    {
     "data": {
      "text/plain": [
       "1"
      ]
     },
     "execution_count": 2,
     "metadata": {},
     "output_type": "execute_result"
    }
   ],
   "source": [
    "source = [1,2,3,4]\n",
    "target = [2,1,4,5]\n",
    "allowedSwaps = [[0,1],[2,3]]\n",
    "\n",
    "minimumHammingDistance(source, target, allowedSwaps)"
   ]
  },
  {
   "cell_type": "code",
   "execution_count": 3,
   "metadata": {},
   "outputs": [
    {
     "data": {
      "text/plain": [
       "2"
      ]
     },
     "execution_count": 3,
     "metadata": {},
     "output_type": "execute_result"
    }
   ],
   "source": [
    "source = [1,2,3,4]\n",
    "target = [1,3,2,4]\n",
    "allowedSwaps = []\n",
    "\n",
    "minimumHammingDistance(source, target, allowedSwaps)"
   ]
  },
  {
   "cell_type": "code",
   "execution_count": 4,
   "metadata": {},
   "outputs": [
    {
     "data": {
      "text/plain": [
       "0"
      ]
     },
     "execution_count": 4,
     "metadata": {},
     "output_type": "execute_result"
    }
   ],
   "source": [
    "source = [5,1,2,4,3]\n",
    "target = [1,5,4,2,3]\n",
    "allowedSwaps = [[0,4],[4,2],[1,3],[1,4]]\n",
    "\n",
    "minimumHammingDistance(source, target, allowedSwaps)"
   ]
  },
  {
   "cell_type": "code",
   "execution_count": null,
   "metadata": {},
   "outputs": [],
   "source": []
  }
 ],
 "metadata": {
  "kernelspec": {
   "display_name": "Python 3",
   "language": "python",
   "name": "python3"
  },
  "language_info": {
   "codemirror_mode": {
    "name": "ipython",
    "version": 3
   },
   "file_extension": ".py",
   "mimetype": "text/x-python",
   "name": "python",
   "nbconvert_exporter": "python",
   "pygments_lexer": "ipython3",
   "version": "3.8.3"
  }
 },
 "nbformat": 4,
 "nbformat_minor": 4
}
