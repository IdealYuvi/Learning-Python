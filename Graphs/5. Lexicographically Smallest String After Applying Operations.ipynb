{
 "cells": [
  {
   "cell_type": "markdown",
   "metadata": {},
   "source": [
    "# You are given a string s of even length consisting of digits from 0 to 9, and two integers a and b.\n",
    "\n",
    "# You can apply either of the following two operations any number of times and in any order on s: Add a to all odd indices of s (0-indexed). Digits post 9 are cycled back to 0. For example, if s = \"3456\" and a = 5, s becomes \"3951\". Rotate s to the right by b positions. For example, if s = \"3456\" and b = 1, s becomes \"6345\".\n",
    "\n",
    "# Return the lexicographically smallest string you can obtain by applying the above operations any number of times on s.\n",
    "\n",
    "# A string a is lexicographically smaller than a string b (of the same length) if in the first position where a and b differ, string a has a letter that appears earlier in the alphabet than the corresponding letter in b. For example, \"0158\" is lexicographically smaller than \"0190\" because the first position they differ is at the third letter, and '5' comes before '9'."
   ]
  },
  {
   "cell_type": "code",
   "execution_count": null,
   "metadata": {},
   "outputs": [],
   "source": [
    "\"\"\"\n",
    "Example 1:\n",
    "Input: s = \"5525\", a = 9, b = 2\n",
    "Output: \"2050\"\n",
    "Explanation: We can apply the following operations:\n",
    "            Start:  \"5525\"\n",
    "            Rotate: \"2555\"\n",
    "            Add:    \"2454\"\n",
    "            Add:    \"2353\"\n",
    "            Rotate: \"5323\"\n",
    "            Add:    \"5222\"\n",
    "            Add:    \"5121\"\n",
    "            Rotate: \"2151\"\n",
    "            Add:    \"2050\"\n",
    "            There is no way to obtain a string that is lexicographically smaller then \"2050\".\n",
    "\n",
    "_____________________________________________________________________________________________________\n",
    "\n",
    "Example 2:\n",
    "Input: s = \"74\", a = 5, b = 1\n",
    "Output: \"24\"\n",
    "Explanation: We can apply the following operations:\n",
    "            Start:  \"74\"\n",
    "            Rotate: \"47\"\n",
    "            Add:    \"42\"\n",
    "            Rotate: \"24\"\n",
    "            There is no way to obtain a string that is lexicographically smaller then \"24\".\n",
    "\n",
    "_____________________________________________________________________________________________________\n",
    "\n",
    "Example 3:\n",
    "Input: s = \"0011\", a = 4, b = 2\n",
    "Output: \"0011\"\n",
    "Explanation: There are no sequence of operations that will give us a lexicographically smaller string than \"0011\".\n",
    "\n",
    "_____________________________________________________________________________________________________\n",
    "\n",
    "Example 4:\n",
    "Input: s = \"43987654\", a = 7, b = 3\n",
    "Output: \"00553311\"\n",
    "\n",
    "\"\"\""
   ]
  },
  {
   "cell_type": "code",
   "execution_count": 1,
   "metadata": {},
   "outputs": [],
   "source": [
    "def findLexSmallestString(s, a, b):\n",
    "    ans = [s]\n",
    "    visited = {}\n",
    "\n",
    "    dfs(s, a, b, visited, ans)\n",
    "\n",
    "    return ans[0]\n",
    "\n",
    "def dfs(s, a, b, visited, ans):\n",
    "    if s in visited:\n",
    "        return\n",
    "\n",
    "    visited[s] = True\n",
    "\n",
    "    ans[0] = min(ans[0], s)\n",
    "\n",
    "    dfs(add(s, a), a, b, visited, ans)\n",
    "    dfs(rotate(s, b), a, b, visited, ans)\n",
    "\n",
    "def add(s, a):\n",
    "    arr = []\n",
    "\n",
    "    for i in range(len(s)):\n",
    "        if (i % 2) == 1:\n",
    "            val = int(s[i])\n",
    "            val += a\n",
    "\n",
    "            if val > 9:\n",
    "                val -= 10\n",
    "\n",
    "            arr.append(str(val))\n",
    "        else:\n",
    "            arr.append(s[i])\n",
    "\n",
    "    return ''.join(arr)\n",
    "\n",
    "def rotate(s, b):\n",
    "    n = len(s) \n",
    "\n",
    "    ans = s[n - b:]\n",
    "    ans += s[:n - b]\n",
    "\n",
    "    return ans"
   ]
  },
  {
   "cell_type": "code",
   "execution_count": 2,
   "metadata": {},
   "outputs": [
    {
     "data": {
      "text/plain": [
       "'2050'"
      ]
     },
     "execution_count": 2,
     "metadata": {},
     "output_type": "execute_result"
    }
   ],
   "source": [
    "s = \"5525\"\n",
    "a = 9\n",
    "b = 2\n",
    "\n",
    "findLexSmallestString(s, a, b)"
   ]
  },
  {
   "cell_type": "code",
   "execution_count": 3,
   "metadata": {},
   "outputs": [
    {
     "data": {
      "text/plain": [
       "'24'"
      ]
     },
     "execution_count": 3,
     "metadata": {},
     "output_type": "execute_result"
    }
   ],
   "source": [
    "s = \"74\"\n",
    "a = 5\n",
    "b = 1\n",
    "\n",
    "findLexSmallestString(s, a, b)"
   ]
  },
  {
   "cell_type": "code",
   "execution_count": 4,
   "metadata": {},
   "outputs": [
    {
     "data": {
      "text/plain": [
       "'0011'"
      ]
     },
     "execution_count": 4,
     "metadata": {},
     "output_type": "execute_result"
    }
   ],
   "source": [
    "s = \"0011\"\n",
    "a = 4\n",
    "b = 2\n",
    "\n",
    "findLexSmallestString(s, a, b)"
   ]
  },
  {
   "cell_type": "code",
   "execution_count": 5,
   "metadata": {},
   "outputs": [
    {
     "data": {
      "text/plain": [
       "'00553311'"
      ]
     },
     "execution_count": 5,
     "metadata": {},
     "output_type": "execute_result"
    }
   ],
   "source": [
    "s = \"43987654\"\n",
    "a = 7\n",
    "b = 3\n",
    "\n",
    "findLexSmallestString(s, a, b)"
   ]
  },
  {
   "cell_type": "code",
   "execution_count": null,
   "metadata": {},
   "outputs": [],
   "source": []
  }
 ],
 "metadata": {
  "kernelspec": {
   "display_name": "Python 3",
   "language": "python",
   "name": "python3"
  },
  "language_info": {
   "codemirror_mode": {
    "name": "ipython",
    "version": 3
   },
   "file_extension": ".py",
   "mimetype": "text/x-python",
   "name": "python",
   "nbconvert_exporter": "python",
   "pygments_lexer": "ipython3",
   "version": "3.8.3"
  }
 },
 "nbformat": 4,
 "nbformat_minor": 4
}
