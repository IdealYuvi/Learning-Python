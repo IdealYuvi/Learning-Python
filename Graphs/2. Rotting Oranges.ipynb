{
 "cells": [
  {
   "cell_type": "markdown",
   "metadata": {},
   "source": [
    "# In a given grid, each cell can have one of three values: the value 0 representing an empty cell; the value 1 representing a fresh orange; the value 2 representing a rotten orange.\n",
    "\n",
    "# Every minute, any fresh orange that is adjacent (4-directionally) to a rotten orange becomes rotten.\n",
    "\n",
    "# Return the minimum number of minutes that must elapse until no cell has a fresh orange.  If this is impossible, return -1 instead."
   ]
  },
  {
   "cell_type": "code",
   "execution_count": 1,
   "metadata": {},
   "outputs": [],
   "source": [
    "def orangesRotting(grid):\n",
    "    rotten = []\n",
    "    fresh = False\n",
    "\n",
    "    for i in range(len(grid)):\n",
    "        for j in range(len(grid[i])):\n",
    "            val = grid[i][j]\n",
    "\n",
    "            if val == 1:\n",
    "                fresh = True\n",
    "\n",
    "            if val == 2:\n",
    "                rotten.append((i, j))\n",
    "\n",
    "    if not fresh:\n",
    "        return 0\n",
    "\n",
    "    if not rotten:\n",
    "        return -1\n",
    "\n",
    "    minute = {'val': 0}\n",
    "\n",
    "    callBFS(rotten, grid, minute)\n",
    "\n",
    "    # Instead of the below step, you can count the total oranges in the first for-loop and decrement it in the callBFS.\n",
    "    for i in range(len(grid)):\n",
    "        for j in range(len(grid[i])):\n",
    "            val = grid[i][j]\n",
    "\n",
    "            if val == 1:\n",
    "                return -1\n",
    "\n",
    "    return minute['val'] - 1\n",
    "\n",
    "def callBFS(rotten, grid, minute):\n",
    "    while rotten:     \n",
    "        for k in range(len(rotten)):\n",
    "            i, j = rotten.pop(0)\n",
    "            changeNeighbours(i, j, rotten, grid)\n",
    "\n",
    "        minute['val'] += 1\n",
    "\n",
    "def changeNeighbours(i, j, rotten, grid):\n",
    "    if i > 0 and grid[i - 1][j] == 1:\n",
    "        rotten.append((i - 1, j))\n",
    "        grid[i - 1][j] = 2\n",
    "\n",
    "    if j > 0 and grid[i][j - 1] == 1:\n",
    "        rotten.append((i, j - 1))\n",
    "        grid[i][j - 1] = 2\n",
    "\n",
    "    if i < len(grid) - 1 and grid[i + 1][j] == 1:\n",
    "        rotten.append((i + 1, j))\n",
    "        grid[i + 1][j] = 2\n",
    "\n",
    "    if j < len(grid[i]) - 1 and grid[i][j + 1] == 1:\n",
    "        rotten.append((i, j + 1))\n",
    "        grid[i][j + 1] = 2"
   ]
  },
  {
   "cell_type": "code",
   "execution_count": 2,
   "metadata": {},
   "outputs": [
    {
     "data": {
      "text/plain": [
       "4"
      ]
     },
     "execution_count": 2,
     "metadata": {},
     "output_type": "execute_result"
    }
   ],
   "source": [
    "orangesRotting([[2,1,1],\n",
    "                [1,1,0],\n",
    "                [0,1,1]])"
   ]
  },
  {
   "cell_type": "code",
   "execution_count": 3,
   "metadata": {},
   "outputs": [
    {
     "data": {
      "text/plain": [
       "-1"
      ]
     },
     "execution_count": 3,
     "metadata": {},
     "output_type": "execute_result"
    }
   ],
   "source": [
    "orangesRotting([[2,1,1],\n",
    "                [0,1,1],\n",
    "                [1,0,1]])"
   ]
  },
  {
   "cell_type": "code",
   "execution_count": 4,
   "metadata": {},
   "outputs": [
    {
     "data": {
      "text/plain": [
       "0"
      ]
     },
     "execution_count": 4,
     "metadata": {},
     "output_type": "execute_result"
    }
   ],
   "source": [
    "orangesRotting([[0,2]])"
   ]
  },
  {
   "cell_type": "code",
   "execution_count": null,
   "metadata": {},
   "outputs": [],
   "source": []
  }
 ],
 "metadata": {
  "kernelspec": {
   "display_name": "Python 3",
   "language": "python",
   "name": "python3"
  },
  "language_info": {
   "codemirror_mode": {
    "name": "ipython",
    "version": 3
   },
   "file_extension": ".py",
   "mimetype": "text/x-python",
   "name": "python",
   "nbconvert_exporter": "python",
   "pygments_lexer": "ipython3",
   "version": "3.8.3"
  }
 },
 "nbformat": 4,
 "nbformat_minor": 4
}
