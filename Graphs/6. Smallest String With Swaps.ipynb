{
 "cells": [
  {
   "cell_type": "markdown",
   "metadata": {},
   "source": [
    "# You are given a string s, and an array of pairs of indices in the string pairs where pairs[i] = [a, b] indicates 2 indices(0-indexed) of the string.\n",
    "\n",
    "# You can swap the characters at any pair of indices in the given pairs any number of times. Return the lexicographically smallest string that s can be changed to after using the swaps."
   ]
  },
  {
   "cell_type": "code",
   "execution_count": null,
   "metadata": {},
   "outputs": [],
   "source": [
    "\"\"\"\n",
    "Example 1:\n",
    "Input: s = \"dcab\", pairs = [[0,3],[1,2]]\n",
    "Output: \"bacd\"\n",
    "Explaination: \n",
    "Swap s[0] and s[3], s = \"bcad\"\n",
    "Swap s[1] and s[2], s = \"bacd\"\n",
    "______________________________________________________________________\n",
    "\n",
    "Example 2:\n",
    "Input: s = \"dcab\", pairs = [[0,3],[1,2],[0,2]]\n",
    "Output: \"abcd\"\n",
    "Explaination: \n",
    "Swap s[0] and s[3], s = \"bcad\"\n",
    "Swap s[0] and s[2], s = \"acbd\"\n",
    "Swap s[1] and s[2], s = \"abcd\"\n",
    "______________________________________________________________________\n",
    "\n",
    "Example 3:\n",
    "Input: s = \"cba\", pairs = [[0,1],[1,2]]\n",
    "Output: \"abc\"\n",
    "Explaination: \n",
    "Swap s[0] and s[1], s = \"bca\"\n",
    "Swap s[1] and s[2], s = \"bac\"\n",
    "Swap s[0] and s[1], s = \"abc\"\n",
    "\n",
    "\"\"\""
   ]
  },
  {
   "cell_type": "code",
   "execution_count": 1,
   "metadata": {},
   "outputs": [],
   "source": [
    "def smallestStringWithSwaps(s, pairs):\n",
    "    if not pairs:\n",
    "        return s\n",
    "\n",
    "    newS = list(s)\n",
    "    parent = [i for i in range(len(s))]\n",
    "    rank = [1 for i in range(len(s))]\n",
    "\n",
    "    def find(x):\n",
    "        if parent[x] == x:\n",
    "            return x\n",
    "\n",
    "        return find(parent[x])\n",
    "\n",
    "    def union(a, b):\n",
    "        a = find(a)\n",
    "        b = find(b)\n",
    "\n",
    "        if rank[a] > rank[b]:\n",
    "            parent[b] = a\n",
    "            rank[a] += rank[b]\n",
    "        else:\n",
    "            parent[a] = b\n",
    "            rank[b] += rank[a]\n",
    "\n",
    "    for a, b in pairs:\n",
    "        union(a, b)\n",
    "\n",
    "    groups = {}\n",
    "\n",
    "    for i in range(len(s)):\n",
    "        val = find(i)\n",
    "\n",
    "        if val in groups:\n",
    "            groups[val].append(i)\n",
    "        else:\n",
    "            groups[val] = [i]\n",
    "\n",
    "    for val in groups:\n",
    "        lis = groups[val]\n",
    "        lis.sort()\n",
    "\n",
    "        letLis = [newS[num] for num in lis]\n",
    "        letLis.sort()\n",
    "\n",
    "        for i, num in enumerate(lis):\n",
    "            newS[num] = letLis[i]\n",
    "\n",
    "    return ''.join(newS)"
   ]
  },
  {
   "cell_type": "code",
   "execution_count": 2,
   "metadata": {},
   "outputs": [
    {
     "data": {
      "text/plain": [
       "'bacd'"
      ]
     },
     "execution_count": 2,
     "metadata": {},
     "output_type": "execute_result"
    }
   ],
   "source": [
    "s = \"dcab\"\n",
    "pairs = [[0,3],[1,2]]\n",
    "\n",
    "smallestStringWithSwaps(s, pairs)"
   ]
  },
  {
   "cell_type": "code",
   "execution_count": 3,
   "metadata": {},
   "outputs": [
    {
     "data": {
      "text/plain": [
       "'abcd'"
      ]
     },
     "execution_count": 3,
     "metadata": {},
     "output_type": "execute_result"
    }
   ],
   "source": [
    "s = \"dcab\"\n",
    "pairs = [[0,3],[1,2],[0,2]]\n",
    "\n",
    "smallestStringWithSwaps(s, pairs)"
   ]
  },
  {
   "cell_type": "code",
   "execution_count": 4,
   "metadata": {},
   "outputs": [
    {
     "data": {
      "text/plain": [
       "'abc'"
      ]
     },
     "execution_count": 4,
     "metadata": {},
     "output_type": "execute_result"
    }
   ],
   "source": [
    "s = \"cba\"\n",
    "pairs = [[0,1],[1,2]]\n",
    "\n",
    "smallestStringWithSwaps(s, pairs)"
   ]
  },
  {
   "cell_type": "code",
   "execution_count": null,
   "metadata": {},
   "outputs": [],
   "source": []
  }
 ],
 "metadata": {
  "kernelspec": {
   "display_name": "Python 3",
   "language": "python",
   "name": "python3"
  },
  "language_info": {
   "codemirror_mode": {
    "name": "ipython",
    "version": 3
   },
   "file_extension": ".py",
   "mimetype": "text/x-python",
   "name": "python",
   "nbconvert_exporter": "python",
   "pygments_lexer": "ipython3",
   "version": "3.8.3"
  }
 },
 "nbformat": 4,
 "nbformat_minor": 4
}
