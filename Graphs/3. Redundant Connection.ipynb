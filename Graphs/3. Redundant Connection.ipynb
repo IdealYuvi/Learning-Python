{
 "cells": [
  {
   "cell_type": "markdown",
   "metadata": {},
   "source": [
    "# In this problem, a tree is an undirected graph that is connected and has no cycles.\n",
    "\n",
    "# The given input is a graph that started as a tree with N nodes (with distinct values 1, 2, ..., N), with one additional edge added. The added edge has two different vertices chosen from 1 to N, and was not an edge that already existed.\n",
    "\n",
    "# The resulting graph is given as a 2D-array of edges. Each element of edges is a pair [u, v] with u < v, that represents an undirected edge connecting nodes u and v.\n",
    "\n",
    "# Return an edge that can be removed so that the resulting graph is a tree of N nodes. If there are multiple answers, return the answer that occurs last in the given 2D-array. The answer edge [u, v] should be in the same format, with u < v. "
   ]
  },
  {
   "cell_type": "code",
   "execution_count": null,
   "metadata": {},
   "outputs": [],
   "source": [
    "\"\"\"\n",
    "Example 1:\n",
    "Input: [[1,2], [1,3], [2,3]]\n",
    "Output: [2,3]\n",
    "Explanation: The given undirected graph will be like this:\n",
    "               1\n",
    "              / \\\n",
    "             2 - 3\n",
    "\n",
    "__________________________________________________________\n",
    "\n",
    "Example 2:\n",
    "Input: [[1,2], [2,3], [3,4], [1,4], [1,5]]\n",
    "Output: [1,4]\n",
    "Explanation: The given undirected graph will be like this:\n",
    "             5 - 1 - 2\n",
    "                 |   |\n",
    "                 4 - 3\n",
    "\n",
    "\"\"\""
   ]
  },
  {
   "cell_type": "code",
   "execution_count": 1,
   "metadata": {},
   "outputs": [],
   "source": [
    "# O(n)T / O(n)S - n is number of vertices\n",
    "\n",
    "def findRedundantConnection(edges):\n",
    "    n = len(edges) + 1\n",
    "    parent = [i for i in range(n)]\n",
    "\n",
    "    for edge in edges:\n",
    "        if find(edge[0], parent) == find(edge[1], parent):\n",
    "            return edge\n",
    "\n",
    "        union(edge[0], edge[1], parent)\n",
    "\n",
    "    return {}\n",
    "\n",
    "def find(x, parent):\n",
    "    if parent[x] == x:\n",
    "        return x\n",
    "\n",
    "    return find(parent[x], parent)\n",
    "\n",
    "def union(a, b, parent):\n",
    "    a = find(a, parent)\n",
    "    b = find(b, parent)\n",
    "\n",
    "    parent[a] = b"
   ]
  },
  {
   "cell_type": "code",
   "execution_count": 2,
   "metadata": {},
   "outputs": [
    {
     "data": {
      "text/plain": [
       "[2, 3]"
      ]
     },
     "execution_count": 2,
     "metadata": {},
     "output_type": "execute_result"
    }
   ],
   "source": [
    "edges = [[1,2], [1,3], [2,3]]\n",
    "\n",
    "findRedundantConnection(edges)"
   ]
  },
  {
   "cell_type": "code",
   "execution_count": 3,
   "metadata": {},
   "outputs": [
    {
     "data": {
      "text/plain": [
       "[1, 4]"
      ]
     },
     "execution_count": 3,
     "metadata": {},
     "output_type": "execute_result"
    }
   ],
   "source": [
    "edges = [[1,2], [2,3], [3,4], [1,4], [1,5]]\n",
    "\n",
    "findRedundantConnection(edges)"
   ]
  },
  {
   "cell_type": "code",
   "execution_count": null,
   "metadata": {},
   "outputs": [],
   "source": []
  }
 ],
 "metadata": {
  "kernelspec": {
   "display_name": "Python 3",
   "language": "python",
   "name": "python3"
  },
  "language_info": {
   "codemirror_mode": {
    "name": "ipython",
    "version": 3
   },
   "file_extension": ".py",
   "mimetype": "text/x-python",
   "name": "python",
   "nbconvert_exporter": "python",
   "pygments_lexer": "ipython3",
   "version": "3.8.3"
  }
 },
 "nbformat": 4,
 "nbformat_minor": 4
}
